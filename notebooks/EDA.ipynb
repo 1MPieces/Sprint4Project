{
 "cells": [
  {
   "cell_type": "markdown",
   "metadata": {},
   "source": [
    "# Megaline Prepaid Plan Report\n",
    "Find here a review of Megaline prepaid plans (both Ultimate and Surf), customers and revenue as requested by the commercial department.  I am provided 5 csv files to review including 2018 plan information, user activity and revenue for 500 customers, a sufficiently large sample.  \n",
    "\n",
    "The purpose of this review is to test the following hypotheses:\n",
    " 1. The average revenue from users of Ultimate and Surf calling plans differs.\n",
    " 2. The average revenue from users in NY and NJ area is different from that of the users form other regions.\n",
    "\n",
    "Data on user behavior is stored in the files `/datasets/megaline_calls.csv`, `/datasets/megaline_internet.csv`, `/datasets/megaline_messages.csv`, `/datasets/megaline_plans.csv` and `/datasets/megaline_users.csv`. \n",
    " \n",
    "This report will consist of these three general stages:\n",
    " 1. Data overview & preprocessing\n",
    " 2. Data analysis\n",
    " 3. Hypotheses Testing"
   ]
  },
  {
   "cell_type": "markdown",
   "metadata": {},
   "source": [
    "# Data Overview & Preprocessing"
   ]
  },
  {
   "cell_type": "markdown",
   "metadata": {},
   "source": [
    "## Initialization"
   ]
  },
  {
   "cell_type": "markdown",
   "metadata": {},
   "source": [
    "Several Python libraries will be necessary for this project. All are loaded in the first cell of the following code."
   ]
  },
  {
   "cell_type": "code",
   "execution_count": 1,
   "metadata": {},
   "outputs": [],
   "source": [
    "# Loading all the libraries\n",
    "import pandas as pd\n",
    "from matplotlib import pyplot as plt\n",
    "import numpy as np\n",
    "from datetime import date, datetime\n",
    "from dateutil.relativedelta import relativedelta\n",
    "import statistics as st\n",
    "from scipy import stats as ss\n",
    "import calendar\n",
    "\n",
    "# Load the data files into different DataFrames\n",
    "calls_df = pd.read_csv('../megaline_calls.csv')\n",
    "internet_df = pd.read_csv('../megaline_internet.csv')\n",
    "messages_df = pd.read_csv('../megaline_messages.csv')\n",
    "plans_df = pd.read_csv('../megaline_plans.csv')\n",
    "users_df = pd.read_csv('../megaline_users.csv')"
   ]
  },
  {
   "cell_type": "markdown",
   "metadata": {
    "id": "MCB6-dXG_Zct"
   },
   "source": [
    "##### **Plan of Action:**\n",
    "\n",
    "There are five given tables with basic information read in each holds a different piece of user/activity information.  Megaline user and subscription info is in the 'megaline_users.csv' file. Plan details are recorded in the 'megaline_plans.csv' file.  The other three tables hold information about specific calls, texts, and web sessions that were completed on the Megaline Telecom System.\n",
    "\n",
    "Most of the column names are reasonable.  I will be editing a few for ease of organization (adding descriptors to the 'id' columns) and others for ease of calling (using abbreviations and otherwise shortening the column names).\n",
    "\n",
    "I will confirm that the data is sufficient to test the hypotheses; however, if there are inappropriate data types and a few missing values, that will have to be addressed during pre-processing.\n",
    "\n",
    "Pre-processing:\n",
    "Correct the formatting in the column headers and deal with the missing values. Then, check whether there are duplicates in the data. Find individual users' pertinent monthly stats: number of calls and minutes, number of texts, volume of data, revenue to company.\n",
    "\n",
    "Header style and data types:\n",
    "\n",
    "Change column names according to the rules of good style:\n",
    "* If the name has several words, use snake_case\n",
    "* All characters must be lowercase\n",
    "* Delete spaces\n",
    "\n",
    "Update above-referenced data-type changes:\n",
    "* Unique ID's should be object type\n",
    "* Currency should be float\n",
    "* Dates should be datetime\n",
    "\n"
   ]
  },
  {
   "cell_type": "markdown",
   "metadata": {},
   "source": [
    "## Plans"
   ]
  },
  {
   "cell_type": "code",
   "execution_count": 2,
   "metadata": {},
   "outputs": [
    {
     "name": "stdout",
     "output_type": "stream",
     "text": [
      "<class 'pandas.core.frame.DataFrame'>\n",
      "RangeIndex: 2 entries, 0 to 1\n",
      "Data columns (total 8 columns):\n",
      " #   Column                 Non-Null Count  Dtype  \n",
      "---  ------                 --------------  -----  \n",
      " 0   messages_included      2 non-null      int64  \n",
      " 1   mb_per_month_included  2 non-null      int64  \n",
      " 2   minutes_included       2 non-null      int64  \n",
      " 3   usd_monthly_pay        2 non-null      int64  \n",
      " 4   usd_per_gb             2 non-null      int64  \n",
      " 5   usd_per_message        2 non-null      float64\n",
      " 6   usd_per_minute         2 non-null      float64\n",
      " 7   plan_name              2 non-null      object \n",
      "dtypes: float64(2), int64(5), object(1)\n",
      "memory usage: 256.0+ bytes\n"
     ]
    },
    {
     "data": {
      "text/plain": [
       "None"
      ]
     },
     "metadata": {},
     "output_type": "display_data"
    }
   ],
   "source": [
    "# Print the general/summary information about the plans' DataFrame\n",
    "\n",
    "display(plans_df.info())\n"
   ]
  },
  {
   "cell_type": "markdown",
   "metadata": {},
   "source": [
    "## Load data"
   ]
  },
  {
   "cell_type": "markdown",
   "metadata": {},
   "source": [
    "Five csv files were provided by the commercial department. All are loaded and assigned variable names and reviewed in the next cells"
   ]
  },
  {
   "cell_type": "markdown",
   "metadata": {},
   "source": [
    "### Observations\n",
    "* Column descriptions:\n",
    "  * plan_name — calling plan name\n",
    "  * usd_monthly_fee — monthly charge in US dollars\n",
    "  * minutes_included — monthly minute allowance\n",
    "  * messages_included — monthly text allowance\n",
    "  * mb_per_month_included — data volume allowance (in megabytes)\n",
    "  * usd_per_minute — price per minute after exceeding the package limits (e.g., if\n",
    "  * the package includes 100 minutes, the 101st minute will be charged)\n",
    "  * usd_per_message — price per text after exceeding the package limits\n",
    "  * usd_per_gb — price per extra gigabyte of data after exceeding the package\n",
    "  * limits (1 GB = 1024 megabytes\n",
    "* Column name updates needed:\n",
    "  * 'messages_included' to 'msgs_incl'\n",
    "  * 'mb_per_month_included' to 'mb_incl'\n",
    "  * 'minutes_included' to 'min_incl'\n",
    "  * 'usd_monthly_pay' to 'plan_usd'\n",
    "  * 'usd_per_gb' to 'gb_usd'\n",
    "  * 'usd_per_message' to 'msg_usd'\n",
    "  * 'usd_per_minute' to 'min_usd'\n",
    "  * 'plan_name' to 'plan'\n",
    "* Data type updates needed:\n",
    "  * 'usd_monthly_pay' to float64\n",
    "  * 'usd_per_gb' to float64\n",
    "* No null values\n"
   ]
  },
  {
   "cell_type": "markdown",
   "metadata": {},
   "source": [
    "### Fix data"
   ]
  },
  {
   "cell_type": "code",
   "execution_count": 3,
   "metadata": {},
   "outputs": [
    {
     "name": "stdout",
     "output_type": "stream",
     "text": [
      "Updated Headers:\n",
      "\n",
      "Index(['msgs_incl', 'mb_incl', 'min_incl', 'plan_usd', 'gb_usd', 'msg_usd',\n",
      "       'min_usd', 'plan'],\n",
      "      dtype='object')\n"
     ]
    }
   ],
   "source": [
    "#Rename columns as per above:\n",
    "plans_df = plans_df.rename(columns={\n",
    "    'messages_included' : 'msgs_incl',\n",
    "    'mb_per_month_included' : 'mb_incl',\n",
    "    'minutes_included' : 'min_incl',\n",
    "    'usd_monthly_pay' : 'plan_usd',\n",
    "    'usd_per_gb' : 'gb_usd',\n",
    "    'usd_per_message' : 'msg_usd',\n",
    "    'usd_per_minute' : 'min_usd',\n",
    "    'plan_name' : 'plan'\n",
    "})\n",
    "\n",
    "#Check resulting column names:\n",
    "print('Updated Headers:')\n",
    "print()\n",
    "print(plans_df.columns)\n"
   ]
  },
  {
   "cell_type": "code",
   "execution_count": 4,
   "metadata": {},
   "outputs": [
    {
     "name": "stdout",
     "output_type": "stream",
     "text": [
      "Updated Data Types:\n",
      "\n",
      "msgs_incl      int64\n",
      "mb_incl        int64\n",
      "min_incl       int64\n",
      "plan_usd     float64\n",
      "gb_usd       float64\n",
      "msg_usd      float64\n",
      "min_usd      float64\n",
      "plan          object\n",
      "dtype: object\n"
     ]
    }
   ],
   "source": [
    "\n",
    "#Update data types as per above review:\n",
    "plans_df['plan_usd'] = plans_df['plan_usd'].astype('float')\n",
    "plans_df['gb_usd'] = plans_df['gb_usd'].astype('float')\n",
    "\n",
    "\n",
    "#Confirm resulting data types:\n",
    "print('Updated Data Types:')\n",
    "print()\n",
    "print(plans_df.dtypes)\n",
    "\n"
   ]
  },
  {
   "cell_type": "markdown",
   "metadata": {},
   "source": [
    "### Enrich data"
   ]
  },
  {
   "cell_type": "markdown",
   "metadata": {},
   "source": [
    "**Helpful Changes**\n",
    "* Columns to add:\n",
    "  * gb_incl - mb_incl/1024 - plan charges by GB so this will be more straight forward\n",
    "* Create new dataframe to preserve all of the original data\n",
    "* Columns to drop:\n",
    "  * mb_incl - this is just redundant information with the GB column in place"
   ]
  },
  {
   "cell_type": "code",
   "execution_count": 5,
   "metadata": {
    "scrolled": true
   },
   "outputs": [
    {
     "data": {
      "text/plain": [
       "msgs_incl      int64\n",
       "mb_incl        int64\n",
       "min_incl       int64\n",
       "plan_usd     float64\n",
       "gb_usd       float64\n",
       "msg_usd      float64\n",
       "min_usd      float64\n",
       "plan          object\n",
       "gb_incl        int64\n",
       "dtype: object"
      ]
     },
     "execution_count": 5,
     "metadata": {},
     "output_type": "execute_result"
    }
   ],
   "source": [
    "# Add column names and functions:\n",
    "plans_df['gb_incl'] = plans_df['mb_incl']/1024\n",
    "plans_df['gb_incl'] = plans_df['gb_incl'].astype('int')\n",
    "plans_df.dtypes"
   ]
  },
  {
   "cell_type": "code",
   "execution_count": 6,
   "metadata": {
    "scrolled": true
   },
   "outputs": [
    {
     "data": {
      "text/html": [
       "<div>\n",
       "<style scoped>\n",
       "    .dataframe tbody tr th:only-of-type {\n",
       "        vertical-align: middle;\n",
       "    }\n",
       "\n",
       "    .dataframe tbody tr th {\n",
       "        vertical-align: top;\n",
       "    }\n",
       "\n",
       "    .dataframe thead th {\n",
       "        text-align: right;\n",
       "    }\n",
       "</style>\n",
       "<table border=\"1\" class=\"dataframe\">\n",
       "  <thead>\n",
       "    <tr style=\"text-align: right;\">\n",
       "      <th></th>\n",
       "      <th>msgs_incl</th>\n",
       "      <th>min_incl</th>\n",
       "      <th>plan_usd</th>\n",
       "      <th>gb_usd</th>\n",
       "      <th>msg_usd</th>\n",
       "      <th>min_usd</th>\n",
       "      <th>gb_incl</th>\n",
       "    </tr>\n",
       "    <tr>\n",
       "      <th>plan</th>\n",
       "      <th></th>\n",
       "      <th></th>\n",
       "      <th></th>\n",
       "      <th></th>\n",
       "      <th></th>\n",
       "      <th></th>\n",
       "      <th></th>\n",
       "    </tr>\n",
       "  </thead>\n",
       "  <tbody>\n",
       "    <tr>\n",
       "      <th>surf</th>\n",
       "      <td>50</td>\n",
       "      <td>500</td>\n",
       "      <td>20.0</td>\n",
       "      <td>10.0</td>\n",
       "      <td>0.03</td>\n",
       "      <td>0.03</td>\n",
       "      <td>15</td>\n",
       "    </tr>\n",
       "    <tr>\n",
       "      <th>ultimate</th>\n",
       "      <td>1000</td>\n",
       "      <td>3000</td>\n",
       "      <td>70.0</td>\n",
       "      <td>7.0</td>\n",
       "      <td>0.01</td>\n",
       "      <td>0.01</td>\n",
       "      <td>30</td>\n",
       "    </tr>\n",
       "  </tbody>\n",
       "</table>\n",
       "</div>"
      ],
      "text/plain": [
       "          msgs_incl  min_incl  plan_usd  gb_usd  msg_usd  min_usd  gb_incl\n",
       "plan                                                                      \n",
       "surf             50       500      20.0    10.0     0.03     0.03       15\n",
       "ultimate       1000      3000      70.0     7.0     0.01     0.01       30"
      ]
     },
     "execution_count": 6,
     "metadata": {},
     "output_type": "execute_result"
    }
   ],
   "source": [
    "# Create new dataframe without extranious columns:\n",
    "plans = plans_df.drop(columns = 'mb_incl')\n",
    "plans\n",
    "plans.set_index('plan', drop=True, inplace=True)\n",
    "plans\n"
   ]
  },
  {
   "cell_type": "markdown",
   "metadata": {},
   "source": [
    "## Users"
   ]
  },
  {
   "cell_type": "code",
   "execution_count": 7,
   "metadata": {
    "scrolled": true
   },
   "outputs": [
    {
     "data": {
      "text/html": [
       "<div>\n",
       "<style scoped>\n",
       "    .dataframe tbody tr th:only-of-type {\n",
       "        vertical-align: middle;\n",
       "    }\n",
       "\n",
       "    .dataframe tbody tr th {\n",
       "        vertical-align: top;\n",
       "    }\n",
       "\n",
       "    .dataframe thead th {\n",
       "        text-align: right;\n",
       "    }\n",
       "</style>\n",
       "<table border=\"1\" class=\"dataframe\">\n",
       "  <thead>\n",
       "    <tr style=\"text-align: right;\">\n",
       "      <th></th>\n",
       "      <th>user_id</th>\n",
       "      <th>first_name</th>\n",
       "      <th>last_name</th>\n",
       "      <th>age</th>\n",
       "      <th>city</th>\n",
       "      <th>reg_date</th>\n",
       "      <th>plan</th>\n",
       "      <th>churn_date</th>\n",
       "    </tr>\n",
       "  </thead>\n",
       "  <tbody>\n",
       "    <tr>\n",
       "      <th>153</th>\n",
       "      <td>1153</td>\n",
       "      <td>Kathaleen</td>\n",
       "      <td>Crawford</td>\n",
       "      <td>30</td>\n",
       "      <td>Bridgeport-Stamford-Norwalk, CT MSA</td>\n",
       "      <td>2018-06-19</td>\n",
       "      <td>surf</td>\n",
       "      <td>NaN</td>\n",
       "    </tr>\n",
       "    <tr>\n",
       "      <th>268</th>\n",
       "      <td>1268</td>\n",
       "      <td>Britni</td>\n",
       "      <td>Bowers</td>\n",
       "      <td>33</td>\n",
       "      <td>Fresno, CA MSA</td>\n",
       "      <td>2018-01-13</td>\n",
       "      <td>surf</td>\n",
       "      <td>NaN</td>\n",
       "    </tr>\n",
       "    <tr>\n",
       "      <th>130</th>\n",
       "      <td>1130</td>\n",
       "      <td>Clarence</td>\n",
       "      <td>Cunningham</td>\n",
       "      <td>27</td>\n",
       "      <td>Philadelphia-Camden-Wilmington, PA-NJ-DE-MD MSA</td>\n",
       "      <td>2018-05-17</td>\n",
       "      <td>surf</td>\n",
       "      <td>NaN</td>\n",
       "    </tr>\n",
       "    <tr>\n",
       "      <th>118</th>\n",
       "      <td>1118</td>\n",
       "      <td>Deane</td>\n",
       "      <td>Ramirez</td>\n",
       "      <td>28</td>\n",
       "      <td>Columbus, OH MSA</td>\n",
       "      <td>2018-12-08</td>\n",
       "      <td>surf</td>\n",
       "      <td>NaN</td>\n",
       "    </tr>\n",
       "    <tr>\n",
       "      <th>89</th>\n",
       "      <td>1089</td>\n",
       "      <td>Malena</td>\n",
       "      <td>Kelley</td>\n",
       "      <td>70</td>\n",
       "      <td>Philadelphia-Camden-Wilmington, PA-NJ-DE-MD MSA</td>\n",
       "      <td>2018-09-03</td>\n",
       "      <td>surf</td>\n",
       "      <td>NaN</td>\n",
       "    </tr>\n",
       "  </tbody>\n",
       "</table>\n",
       "</div>"
      ],
      "text/plain": [
       "     user_id first_name   last_name  age  \\\n",
       "153     1153  Kathaleen    Crawford   30   \n",
       "268     1268     Britni      Bowers   33   \n",
       "130     1130   Clarence  Cunningham   27   \n",
       "118     1118      Deane     Ramirez   28   \n",
       "89      1089     Malena      Kelley   70   \n",
       "\n",
       "                                                city    reg_date  plan  \\\n",
       "153              Bridgeport-Stamford-Norwalk, CT MSA  2018-06-19  surf   \n",
       "268                                   Fresno, CA MSA  2018-01-13  surf   \n",
       "130  Philadelphia-Camden-Wilmington, PA-NJ-DE-MD MSA  2018-05-17  surf   \n",
       "118                                 Columbus, OH MSA  2018-12-08  surf   \n",
       "89   Philadelphia-Camden-Wilmington, PA-NJ-DE-MD MSA  2018-09-03  surf   \n",
       "\n",
       "    churn_date  \n",
       "153        NaN  \n",
       "268        NaN  \n",
       "130        NaN  \n",
       "118        NaN  \n",
       "89         NaN  "
      ]
     },
     "metadata": {},
     "output_type": "display_data"
    },
    {
     "name": "stdout",
     "output_type": "stream",
     "text": [
      "\n",
      "\n",
      "\n",
      "<class 'pandas.core.frame.DataFrame'>\n",
      "RangeIndex: 500 entries, 0 to 499\n",
      "Data columns (total 8 columns):\n",
      " #   Column      Non-Null Count  Dtype \n",
      "---  ------      --------------  ----- \n",
      " 0   user_id     500 non-null    int64 \n",
      " 1   first_name  500 non-null    object\n",
      " 2   last_name   500 non-null    object\n",
      " 3   age         500 non-null    int64 \n",
      " 4   city        500 non-null    object\n",
      " 5   reg_date    500 non-null    object\n",
      " 6   plan        500 non-null    object\n",
      " 7   churn_date  34 non-null     object\n",
      "dtypes: int64(2), object(6)\n",
      "memory usage: 31.4+ KB\n"
     ]
    },
    {
     "data": {
      "text/plain": [
       "None"
      ]
     },
     "metadata": {},
     "output_type": "display_data"
    }
   ],
   "source": [
    "# Print the general/summary information about the users' DataFrame\n",
    "display(users_df.sample(5))\n",
    "print()\n",
    "print()\n",
    "print()\n",
    "display(users_df.info())"
   ]
  },
  {
   "cell_type": "markdown",
   "metadata": {},
   "source": [
    "### Observations\n",
    "* Column descriptions:\n",
    "  * user_id — unique user identifier\n",
    "  * first_name — user's name\n",
    "  * last_name — user's last name\n",
    "  * age — user's age (years)\n",
    "  * reg_date — subscription date (yyyy/mm/dd)\n",
    "  * churn_date — the date the user stopped using the service (if the value is missing, the calling plan was being used when this data was generated)(yyyy/mm/dd)\n",
    "  * city — user's city of residence\n",
    "  * plan — calling plan name\n",
    "* Column name updates needed:\n",
    "  * all columns appropriately named\n",
    "* Data type updates needed:\n",
    "  * 'user_id' to object\n",
    "  * 'reg_date' to datetime\n",
    "  * 'churn_date' to datetime\n",
    "* Null values:\n",
    "  * 'churn_date' only column containing null values\n",
    "  * null values indicate an active plan at the time of data collection\n",
    "  * null values will be left alone as the column is not required for this project\n"
   ]
  },
  {
   "cell_type": "markdown",
   "metadata": {},
   "source": [
    " "
   ]
  },
  {
   "cell_type": "markdown",
   "metadata": {},
   "source": [
    "### Fix Data"
   ]
  },
  {
   "cell_type": "code",
   "execution_count": 8,
   "metadata": {},
   "outputs": [
    {
     "name": "stdout",
     "output_type": "stream",
     "text": [
      "Updated Data Types:\n",
      "\n",
      "user_id               object\n",
      "first_name            object\n",
      "last_name             object\n",
      "age                    int64\n",
      "city                  object\n",
      "reg_date      datetime64[ns]\n",
      "plan                  object\n",
      "churn_date    datetime64[ns]\n",
      "dtype: object\n"
     ]
    }
   ],
   "source": [
    "#Update data types as per above review:\n",
    "users_df['user_id'] = users_df['user_id'].astype('object')\n",
    "users_df['reg_date'] = pd.to_datetime(users_df['reg_date'])\n",
    "users_df['churn_date'] = pd.to_datetime(users_df['churn_date'])\n",
    "\n",
    "#Confirm resulting data types:\n",
    "print('Updated Data Types:')\n",
    "print()\n",
    "print(users_df.dtypes)\n",
    "\n",
    "\n"
   ]
  },
  {
   "cell_type": "code",
   "execution_count": 9,
   "metadata": {},
   "outputs": [
    {
     "name": "stdout",
     "output_type": "stream",
     "text": [
      "Number of duplicated entries:\n",
      "0\n",
      "\n",
      "\n",
      "Number of duplicated user ID's:\n",
      "0\n",
      "\n",
      "\n",
      "Number of duplicated first_name+last_name pairs:\n",
      "0\n"
     ]
    }
   ],
   "source": [
    "# counting clear duplicates full row:\n",
    "print('Number of duplicated entries:')\n",
    "print(users_df.duplicated().sum())\n",
    "print()\n",
    "print()\n",
    "print('Number of duplicated user ID\\'s:')\n",
    "print(users_df.user_id.duplicated().sum())\n",
    "print()\n",
    "print()\n",
    "print('Number of duplicated first_name+last_name pairs:')\n",
    "print(users_df.duplicated(['first_name', 'last_name']).sum())"
   ]
  },
  {
   "cell_type": "markdown",
   "metadata": {},
   "source": [
    "No meaningful duplicates are found considering 3 criteria:\n",
    "  * Fully duplicated rows\n",
    "  * Duplicated user ID\n",
    "  * Duplicated customer name"
   ]
  },
  {
   "cell_type": "markdown",
   "metadata": {},
   "source": [
    "### Enrich Data"
   ]
  },
  {
   "cell_type": "markdown",
   "metadata": {},
   "source": [
    "**Helpful Changes**\n",
    "* Columns to add:\n",
    "  * NY_NJ - Boolean True if the customer is in NY or NJ - will need this to test the second hypothesis\n",
    "* Create new dataframe to preserve all of the original data\n",
    "* Columns to drop: - \n",
    "  * first_name\n",
    "  * last_name\n",
    "  * reg_date - not needed for the scope of this project.\n",
    "  * churn_date - could separate these out for a review of the revenue from customers you kept vs lost\n",
    "  * age\n",
    "  * as far as I can tell, there is no use for these columns inside of the scope of this project\n",
    " \n",
    " "
   ]
  },
  {
   "cell_type": "code",
   "execution_count": 10,
   "metadata": {
    "scrolled": true
   },
   "outputs": [
    {
     "data": {
      "text/plain": [
       "array(['Atlanta-Sandy Springs-Roswell, GA MSA',\n",
       "       'Seattle-Tacoma-Bellevue, WA MSA',\n",
       "       'Las Vegas-Henderson-Paradise, NV MSA', 'Tulsa, OK MSA',\n",
       "       'Dallas-Fort Worth-Arlington, TX MSA',\n",
       "       'San Francisco-Oakland-Berkeley, CA MSA',\n",
       "       'Grand Rapids-Kentwood, MI MSA',\n",
       "       'Orlando-Kissimmee-Sanford, FL MSA',\n",
       "       'San Jose-Sunnyvale-Santa Clara, CA MSA',\n",
       "       'Cleveland-Elyria, OH MSA',\n",
       "       'Chicago-Naperville-Elgin, IL-IN-WI MSA', 'Knoxville, TN MSA',\n",
       "       'New York-Newark-Jersey City, NY-NJ-PA MSA', 'Pittsburgh, PA MSA',\n",
       "       'Fresno, CA MSA',\n",
       "       'Washington-Arlington-Alexandria, DC-VA-MD-WV MSA',\n",
       "       'Indianapolis-Carmel-Anderson, IN MSA', 'Jacksonville, FL MSA',\n",
       "       'Los Angeles-Long Beach-Anaheim, CA MSA',\n",
       "       'Omaha-Council Bluffs, NE-IA MSA',\n",
       "       'Houston-The Woodlands-Sugar Land, TX MSA',\n",
       "       'Philadelphia-Camden-Wilmington, PA-NJ-DE-MD MSA',\n",
       "       'Tampa-St. Petersburg-Clearwater, FL MSA',\n",
       "       'Birmingham-Hoover, AL MSA', 'Oklahoma City, OK MSA',\n",
       "       'Charlotte-Concord-Gastonia, NC-SC MSA',\n",
       "       'Denver-Aurora-Lakewood, CO MSA',\n",
       "       'Nashville-Davidson–Murfreesboro–Franklin, TN MSA',\n",
       "       'Columbus, OH MSA', 'Albuquerque, NM MSA',\n",
       "       'Boston-Cambridge-Newton, MA-NH MSA',\n",
       "       'Miami-Fort Lauderdale-West Palm Beach, FL MSA',\n",
       "       'San Diego-Chula Vista-Carlsbad, CA MSA',\n",
       "       'Phoenix-Mesa-Chandler, AZ MSA',\n",
       "       'Portland-Vancouver-Hillsboro, OR-WA MSA',\n",
       "       'Cincinnati, OH-KY-IN MSA', 'Columbia, SC MSA',\n",
       "       'San Antonio-New Braunfels, TX MSA', 'Buffalo-Cheektowaga, NY MSA',\n",
       "       'Memphis, TN-MS-AR MSA',\n",
       "       'Riverside-San Bernardino-Ontario, CA MSA',\n",
       "       'Louisville/Jefferson County, KY-IN MSA',\n",
       "       'Albany-Schenectady-Troy, NY MSA', 'Providence-Warwick, RI-MA MSA',\n",
       "       'Salt Lake City, UT MSA', 'Urban Honolulu, HI MSA',\n",
       "       'El Paso, TX MSA', 'New Haven-Milford, CT MSA',\n",
       "       'North Port-Sarasota-Bradenton, FL MSA', 'Baton Rouge, LA MSA',\n",
       "       'New Orleans-Metairie, LA MSA',\n",
       "       'Bridgeport-Stamford-Norwalk, CT MSA',\n",
       "       'Virginia Beach-Norfolk-Newport News, VA-NC MSA',\n",
       "       'Baltimore-Columbia-Towson, MD MSA', 'Milwaukee-Waukesha, WI MSA',\n",
       "       'Oxnard-Thousand Oaks-Ventura, CA MSA',\n",
       "       'Sacramento–Roseville–Folsom, CA MSA',\n",
       "       'Austin-Round Rock-Georgetown, TX MSA', 'Richmond, VA MSA',\n",
       "       'St. Louis, MO-IL MSA',\n",
       "       'Minneapolis-St. Paul-Bloomington, MN-WI MSA',\n",
       "       'Dayton-Kettering, OH MSA', 'Bakersfield, CA MSA',\n",
       "       'Detroit-Warren-Dearborn, MI MSA', 'Kansas City, MO-KS MSA',\n",
       "       'Charleston-North Charleston, SC MSA', 'Rochester, NY MSA',\n",
       "       'Raleigh-Cary, NC MSA', 'Colorado Springs, CO MSA',\n",
       "       'Greensboro-High Point, NC MSA', 'Tucson, AZ MSA',\n",
       "       'Stockton, CA MSA', 'Cape Coral-Fort Myers, FL MSA'], dtype=object)"
      ]
     },
     "metadata": {},
     "output_type": "display_data"
    },
    {
     "data": {
      "text/html": [
       "<div>\n",
       "<style scoped>\n",
       "    .dataframe tbody tr th:only-of-type {\n",
       "        vertical-align: middle;\n",
       "    }\n",
       "\n",
       "    .dataframe tbody tr th {\n",
       "        vertical-align: top;\n",
       "    }\n",
       "\n",
       "    .dataframe thead th {\n",
       "        text-align: right;\n",
       "    }\n",
       "</style>\n",
       "<table border=\"1\" class=\"dataframe\">\n",
       "  <thead>\n",
       "    <tr style=\"text-align: right;\">\n",
       "      <th></th>\n",
       "      <th>user_id</th>\n",
       "      <th>first_name</th>\n",
       "      <th>last_name</th>\n",
       "      <th>age</th>\n",
       "      <th>city</th>\n",
       "      <th>reg_date</th>\n",
       "      <th>plan</th>\n",
       "      <th>churn_date</th>\n",
       "      <th>ny_nj</th>\n",
       "    </tr>\n",
       "  </thead>\n",
       "  <tbody>\n",
       "    <tr>\n",
       "      <th>420</th>\n",
       "      <td>1420</td>\n",
       "      <td>Season</td>\n",
       "      <td>Hardy</td>\n",
       "      <td>27</td>\n",
       "      <td>San Francisco-Oakland-Berkeley, CA MSA</td>\n",
       "      <td>2018-02-22</td>\n",
       "      <td>ultimate</td>\n",
       "      <td>NaT</td>\n",
       "      <td>False</td>\n",
       "    </tr>\n",
       "    <tr>\n",
       "      <th>93</th>\n",
       "      <td>1093</td>\n",
       "      <td>Karima</td>\n",
       "      <td>Hampton</td>\n",
       "      <td>69</td>\n",
       "      <td>Nashville-Davidson–Murfreesboro–Franklin, TN MSA</td>\n",
       "      <td>2018-12-17</td>\n",
       "      <td>surf</td>\n",
       "      <td>NaT</td>\n",
       "      <td>False</td>\n",
       "    </tr>\n",
       "    <tr>\n",
       "      <th>162</th>\n",
       "      <td>1162</td>\n",
       "      <td>Mark</td>\n",
       "      <td>Farley</td>\n",
       "      <td>20</td>\n",
       "      <td>Los Angeles-Long Beach-Anaheim, CA MSA</td>\n",
       "      <td>2018-07-12</td>\n",
       "      <td>ultimate</td>\n",
       "      <td>NaT</td>\n",
       "      <td>False</td>\n",
       "    </tr>\n",
       "    <tr>\n",
       "      <th>178</th>\n",
       "      <td>1178</td>\n",
       "      <td>Charlsie</td>\n",
       "      <td>Reid</td>\n",
       "      <td>53</td>\n",
       "      <td>Cincinnati, OH-KY-IN MSA</td>\n",
       "      <td>2018-10-05</td>\n",
       "      <td>surf</td>\n",
       "      <td>NaT</td>\n",
       "      <td>False</td>\n",
       "    </tr>\n",
       "    <tr>\n",
       "      <th>65</th>\n",
       "      <td>1065</td>\n",
       "      <td>Sherlyn</td>\n",
       "      <td>Noel</td>\n",
       "      <td>26</td>\n",
       "      <td>Los Angeles-Long Beach-Anaheim, CA MSA</td>\n",
       "      <td>2018-08-03</td>\n",
       "      <td>surf</td>\n",
       "      <td>NaT</td>\n",
       "      <td>False</td>\n",
       "    </tr>\n",
       "    <tr>\n",
       "      <th>257</th>\n",
       "      <td>1257</td>\n",
       "      <td>Gabriel</td>\n",
       "      <td>O'donnell</td>\n",
       "      <td>61</td>\n",
       "      <td>New York-Newark-Jersey City, NY-NJ-PA MSA</td>\n",
       "      <td>2018-01-29</td>\n",
       "      <td>surf</td>\n",
       "      <td>NaT</td>\n",
       "      <td>True</td>\n",
       "    </tr>\n",
       "    <tr>\n",
       "      <th>374</th>\n",
       "      <td>1374</td>\n",
       "      <td>Ching</td>\n",
       "      <td>Watts</td>\n",
       "      <td>55</td>\n",
       "      <td>Louisville/Jefferson County, KY-IN MSA</td>\n",
       "      <td>2018-02-14</td>\n",
       "      <td>surf</td>\n",
       "      <td>NaT</td>\n",
       "      <td>False</td>\n",
       "    </tr>\n",
       "    <tr>\n",
       "      <th>131</th>\n",
       "      <td>1131</td>\n",
       "      <td>Shane</td>\n",
       "      <td>Morrison</td>\n",
       "      <td>60</td>\n",
       "      <td>Los Angeles-Long Beach-Anaheim, CA MSA</td>\n",
       "      <td>2018-01-07</td>\n",
       "      <td>surf</td>\n",
       "      <td>NaT</td>\n",
       "      <td>False</td>\n",
       "    </tr>\n",
       "    <tr>\n",
       "      <th>46</th>\n",
       "      <td>1046</td>\n",
       "      <td>Beata</td>\n",
       "      <td>Hooper</td>\n",
       "      <td>67</td>\n",
       "      <td>Boston-Cambridge-Newton, MA-NH MSA</td>\n",
       "      <td>2018-02-19</td>\n",
       "      <td>surf</td>\n",
       "      <td>NaT</td>\n",
       "      <td>False</td>\n",
       "    </tr>\n",
       "    <tr>\n",
       "      <th>458</th>\n",
       "      <td>1458</td>\n",
       "      <td>Joella</td>\n",
       "      <td>Munoz</td>\n",
       "      <td>32</td>\n",
       "      <td>Detroit-Warren-Dearborn, MI MSA</td>\n",
       "      <td>2018-07-24</td>\n",
       "      <td>ultimate</td>\n",
       "      <td>NaT</td>\n",
       "      <td>False</td>\n",
       "    </tr>\n",
       "  </tbody>\n",
       "</table>\n",
       "</div>"
      ],
      "text/plain": [
       "    user_id first_name  last_name  age  \\\n",
       "420    1420     Season      Hardy   27   \n",
       "93     1093     Karima    Hampton   69   \n",
       "162    1162       Mark     Farley   20   \n",
       "178    1178   Charlsie       Reid   53   \n",
       "65     1065    Sherlyn       Noel   26   \n",
       "257    1257    Gabriel  O'donnell   61   \n",
       "374    1374      Ching      Watts   55   \n",
       "131    1131      Shane   Morrison   60   \n",
       "46     1046      Beata     Hooper   67   \n",
       "458    1458     Joella      Munoz   32   \n",
       "\n",
       "                                                 city   reg_date      plan  \\\n",
       "420            San Francisco-Oakland-Berkeley, CA MSA 2018-02-22  ultimate   \n",
       "93   Nashville-Davidson–Murfreesboro–Franklin, TN MSA 2018-12-17      surf   \n",
       "162            Los Angeles-Long Beach-Anaheim, CA MSA 2018-07-12  ultimate   \n",
       "178                          Cincinnati, OH-KY-IN MSA 2018-10-05      surf   \n",
       "65             Los Angeles-Long Beach-Anaheim, CA MSA 2018-08-03      surf   \n",
       "257         New York-Newark-Jersey City, NY-NJ-PA MSA 2018-01-29      surf   \n",
       "374            Louisville/Jefferson County, KY-IN MSA 2018-02-14      surf   \n",
       "131            Los Angeles-Long Beach-Anaheim, CA MSA 2018-01-07      surf   \n",
       "46                 Boston-Cambridge-Newton, MA-NH MSA 2018-02-19      surf   \n",
       "458                   Detroit-Warren-Dearborn, MI MSA 2018-07-24  ultimate   \n",
       "\n",
       "    churn_date  ny_nj  \n",
       "420        NaT  False  \n",
       "93         NaT  False  \n",
       "162        NaT  False  \n",
       "178        NaT  False  \n",
       "65         NaT  False  \n",
       "257        NaT   True  \n",
       "374        NaT  False  \n",
       "131        NaT  False  \n",
       "46         NaT  False  \n",
       "458        NaT  False  "
      ]
     },
     "metadata": {},
     "output_type": "display_data"
    }
   ],
   "source": [
    "# Add column to hold True if customer lives in New York or New Jersey:\n",
    "\n",
    "#First review city names to confirm search parameters\n",
    "display(users_df.city.unique())\n",
    "\n",
    "# Create boolean column True if user lives in NY-NJ area\n",
    "\n",
    "users_df['ny_nj'] = users_df['city'].str.contains('NY','NJ')\n",
    "display(users_df.sample(10))\n"
   ]
  },
  {
   "cell_type": "code",
   "execution_count": 11,
   "metadata": {},
   "outputs": [
    {
     "name": "stdout",
     "output_type": "stream",
     "text": [
      "    user_id  plan  ny_nj\n",
      "147    1147  surf  False\n"
     ]
    }
   ],
   "source": [
    "# Create new dataframe with only columns that will be needed for this project:\n",
    "users = users_df.drop(columns = ['first_name', 'last_name', 'reg_date', 'churn_date', 'age', 'city'])\n",
    "\n",
    "print(users.sample(1))"
   ]
  },
  {
   "cell_type": "markdown",
   "metadata": {},
   "source": [
    "## Calls"
   ]
  },
  {
   "cell_type": "code",
   "execution_count": 12,
   "metadata": {},
   "outputs": [
    {
     "data": {
      "text/html": [
       "<div>\n",
       "<style scoped>\n",
       "    .dataframe tbody tr th:only-of-type {\n",
       "        vertical-align: middle;\n",
       "    }\n",
       "\n",
       "    .dataframe tbody tr th {\n",
       "        vertical-align: top;\n",
       "    }\n",
       "\n",
       "    .dataframe thead th {\n",
       "        text-align: right;\n",
       "    }\n",
       "</style>\n",
       "<table border=\"1\" class=\"dataframe\">\n",
       "  <thead>\n",
       "    <tr style=\"text-align: right;\">\n",
       "      <th></th>\n",
       "      <th>id</th>\n",
       "      <th>user_id</th>\n",
       "      <th>call_date</th>\n",
       "      <th>duration</th>\n",
       "    </tr>\n",
       "  </thead>\n",
       "  <tbody>\n",
       "    <tr>\n",
       "      <th>121918</th>\n",
       "      <td>1430_403</td>\n",
       "      <td>1430</td>\n",
       "      <td>2018-12-31</td>\n",
       "      <td>3.42</td>\n",
       "    </tr>\n",
       "    <tr>\n",
       "      <th>85935</th>\n",
       "      <td>1316_207</td>\n",
       "      <td>1316</td>\n",
       "      <td>2018-07-26</td>\n",
       "      <td>10.43</td>\n",
       "    </tr>\n",
       "    <tr>\n",
       "      <th>68759</th>\n",
       "      <td>1247_92</td>\n",
       "      <td>1247</td>\n",
       "      <td>2018-08-02</td>\n",
       "      <td>0.00</td>\n",
       "    </tr>\n",
       "    <tr>\n",
       "      <th>135130</th>\n",
       "      <td>1490_230</td>\n",
       "      <td>1490</td>\n",
       "      <td>2018-08-19</td>\n",
       "      <td>0.00</td>\n",
       "    </tr>\n",
       "    <tr>\n",
       "      <th>2895</th>\n",
       "      <td>1010_509</td>\n",
       "      <td>1010</td>\n",
       "      <td>2018-04-21</td>\n",
       "      <td>6.28</td>\n",
       "    </tr>\n",
       "  </tbody>\n",
       "</table>\n",
       "</div>"
      ],
      "text/plain": [
       "              id  user_id   call_date  duration\n",
       "121918  1430_403     1430  2018-12-31      3.42\n",
       "85935   1316_207     1316  2018-07-26     10.43\n",
       "68759    1247_92     1247  2018-08-02      0.00\n",
       "135130  1490_230     1490  2018-08-19      0.00\n",
       "2895    1010_509     1010  2018-04-21      6.28"
      ]
     },
     "metadata": {},
     "output_type": "display_data"
    },
    {
     "name": "stdout",
     "output_type": "stream",
     "text": [
      "\n",
      "\n",
      "\n",
      "<class 'pandas.core.frame.DataFrame'>\n",
      "RangeIndex: 137735 entries, 0 to 137734\n",
      "Data columns (total 4 columns):\n",
      " #   Column     Non-Null Count   Dtype  \n",
      "---  ------     --------------   -----  \n",
      " 0   id         137735 non-null  object \n",
      " 1   user_id    137735 non-null  int64  \n",
      " 2   call_date  137735 non-null  object \n",
      " 3   duration   137735 non-null  float64\n",
      "dtypes: float64(1), int64(1), object(2)\n",
      "memory usage: 4.2+ MB\n"
     ]
    },
    {
     "data": {
      "text/plain": [
       "None"
      ]
     },
     "metadata": {},
     "output_type": "display_data"
    }
   ],
   "source": [
    "# Print the general/summary information about the calls' DataFrame\n",
    "#show sample entries, null counts, data types\n",
    "display(calls_df.sample(5))\n",
    "print()\n",
    "print()\n",
    "print()\n",
    "display(calls_df.info())\n"
   ]
  },
  {
   "cell_type": "markdown",
   "metadata": {},
   "source": [
    "### Observations\n",
    "\n",
    "* Column descriptions:\n",
    "  * id — unique call identifier\n",
    "  * call_date — call date\n",
    "  * duration — call duration (in minutes)\n",
    "  * user_id — the identifier of the user making the call\n",
    "* Column name updates needed:\n",
    "  * 'id' to 'call_id'\n",
    "* Data type updates needed:\n",
    "  * 'user_id' to object\n",
    "  * 'call_date' to datetime\n",
    "* No null values\n"
   ]
  },
  {
   "cell_type": "markdown",
   "metadata": {},
   "source": [
    " "
   ]
  },
  {
   "cell_type": "markdown",
   "metadata": {},
   "source": [
    "### Fix data"
   ]
  },
  {
   "cell_type": "code",
   "execution_count": 13,
   "metadata": {
    "id": "oKOTdF_Q_Zct"
   },
   "outputs": [
    {
     "name": "stdout",
     "output_type": "stream",
     "text": [
      "Updated Headers:\n",
      "\n",
      "Index(['call_id', 'user_id', 'call_date', 'duration'], dtype='object')\n",
      "6.745927033796782\n"
     ]
    }
   ],
   "source": [
    "#Rename columns as per above review:\n",
    "calls_df = calls_df.rename(columns={\n",
    "    'id':'call_id',\n",
    "})\n",
    "\n",
    "#Check resulting column names:\n",
    "print('Updated Headers:')\n",
    "print()\n",
    "print(calls_df.columns)\n",
    "\n",
    "\n",
    "print(calls_df.duration.mean())"
   ]
  },
  {
   "cell_type": "code",
   "execution_count": 14,
   "metadata": {
    "scrolled": true
   },
   "outputs": [
    {
     "name": "stdout",
     "output_type": "stream",
     "text": [
      "\n",
      "call_id              object\n",
      "user_id              object\n",
      "call_date    datetime64[ns]\n",
      "duration            float64\n",
      "dtype: object\n"
     ]
    }
   ],
   "source": [
    "#Update data types as per above review:\n",
    "calls_df['user_id'] = calls_df['user_id'].astype('object')\n",
    "calls_df['call_date'] = pd.to_datetime(calls_df['call_date'])\n",
    "\n",
    "#Confirm resulting data types:\n",
    "print()\n",
    "print(calls_df.dtypes)\n",
    "\n"
   ]
  },
  {
   "cell_type": "code",
   "execution_count": 15,
   "metadata": {},
   "outputs": [
    {
     "name": "stdout",
     "output_type": "stream",
     "text": [
      "Number of duplicated entries:\n",
      "0\n",
      "\n",
      "\n",
      "Number of duplicated call ID's\n",
      "0\n",
      "\n",
      "\n"
     ]
    }
   ],
   "source": [
    "# counting clear duplicates full row:\n",
    "print('Number of duplicated entries:')\n",
    "print(calls_df.duplicated().sum())\n",
    "print()\n",
    "print()\n",
    "print('Number of duplicated call ID\\'s')\n",
    "print(calls_df.call_id.duplicated().sum())\n",
    "print()\n",
    "print()"
   ]
  },
  {
   "cell_type": "markdown",
   "metadata": {},
   "source": [
    "### Enrich data"
   ]
  },
  {
   "cell_type": "markdown",
   "metadata": {},
   "source": [
    "**Helpful Changes**\n",
    "* Columns to add:\n",
    "  * min_spent - rounded up call duration by call\n",
    "  * month - holds the month of the call\n",
    "* Create new dataframe to preserve all of the original data\n",
    "* Columns to drop:\n",
    "  * call_date - we have the info we need in month column\n",
    "  * call_id - not required to track in the scope\n",
    "  * duration - minutes spent will be the only data required going forward"
   ]
  },
  {
   "cell_type": "code",
   "execution_count": 16,
   "metadata": {},
   "outputs": [
    {
     "name": "stdout",
     "output_type": "stream",
     "text": [
      "       call_id user_id  call_date  duration  min_spent  month\n",
      "8902  1041_337    1041 2018-04-11       2.6          3      4\n"
     ]
    }
   ],
   "source": [
    "#Adding a rounded-up call duration:\n",
    "calls_df['min_spent'] = np.ceil(calls_df['duration'])\n",
    "calls_df['min_spent'] = calls_df['min_spent'].astype('int')\n",
    "\n",
    "#Adding a month of call column:\n",
    "calls_df['month'] = calls_df['call_date'].dt.month\n",
    "\n",
    "print(calls_df.sample(1))"
   ]
  },
  {
   "cell_type": "code",
   "execution_count": 17,
   "metadata": {},
   "outputs": [
    {
     "data": {
      "text/plain": [
       "Index(['user_id', 'duration', 'min_spent', 'month'], dtype='object')"
      ]
     },
     "execution_count": 17,
     "metadata": {},
     "output_type": "execute_result"
    }
   ],
   "source": [
    "# Create a new dataframe without extranious columns:\n",
    "calls = calls_df.drop(columns = ['call_date', 'call_id'])\n",
    "calls.columns"
   ]
  },
  {
   "cell_type": "markdown",
   "metadata": {},
   "source": [
    "## Messages"
   ]
  },
  {
   "cell_type": "code",
   "execution_count": 18,
   "metadata": {},
   "outputs": [
    {
     "data": {
      "text/html": [
       "<div>\n",
       "<style scoped>\n",
       "    .dataframe tbody tr th:only-of-type {\n",
       "        vertical-align: middle;\n",
       "    }\n",
       "\n",
       "    .dataframe tbody tr th {\n",
       "        vertical-align: top;\n",
       "    }\n",
       "\n",
       "    .dataframe thead th {\n",
       "        text-align: right;\n",
       "    }\n",
       "</style>\n",
       "<table border=\"1\" class=\"dataframe\">\n",
       "  <thead>\n",
       "    <tr style=\"text-align: right;\">\n",
       "      <th></th>\n",
       "      <th>id</th>\n",
       "      <th>user_id</th>\n",
       "      <th>message_date</th>\n",
       "    </tr>\n",
       "  </thead>\n",
       "  <tbody>\n",
       "    <tr>\n",
       "      <th>5442</th>\n",
       "      <td>1052_199</td>\n",
       "      <td>1052</td>\n",
       "      <td>2018-11-25</td>\n",
       "    </tr>\n",
       "    <tr>\n",
       "      <th>588</th>\n",
       "      <td>1006_219</td>\n",
       "      <td>1006</td>\n",
       "      <td>2018-12-07</td>\n",
       "    </tr>\n",
       "    <tr>\n",
       "      <th>64591</th>\n",
       "      <td>1412_173</td>\n",
       "      <td>1412</td>\n",
       "      <td>2018-07-17</td>\n",
       "    </tr>\n",
       "    <tr>\n",
       "      <th>12697</th>\n",
       "      <td>1082_276</td>\n",
       "      <td>1082</td>\n",
       "      <td>2018-08-31</td>\n",
       "    </tr>\n",
       "    <tr>\n",
       "      <th>9963</th>\n",
       "      <td>1075_218</td>\n",
       "      <td>1075</td>\n",
       "      <td>2018-11-07</td>\n",
       "    </tr>\n",
       "  </tbody>\n",
       "</table>\n",
       "</div>"
      ],
      "text/plain": [
       "             id  user_id message_date\n",
       "5442   1052_199     1052   2018-11-25\n",
       "588    1006_219     1006   2018-12-07\n",
       "64591  1412_173     1412   2018-07-17\n",
       "12697  1082_276     1082   2018-08-31\n",
       "9963   1075_218     1075   2018-11-07"
      ]
     },
     "metadata": {},
     "output_type": "display_data"
    },
    {
     "name": "stdout",
     "output_type": "stream",
     "text": [
      "\n",
      "\n",
      "\n",
      "<class 'pandas.core.frame.DataFrame'>\n",
      "RangeIndex: 76051 entries, 0 to 76050\n",
      "Data columns (total 3 columns):\n",
      " #   Column        Non-Null Count  Dtype \n",
      "---  ------        --------------  ----- \n",
      " 0   id            76051 non-null  object\n",
      " 1   user_id       76051 non-null  int64 \n",
      " 2   message_date  76051 non-null  object\n",
      "dtypes: int64(1), object(2)\n",
      "memory usage: 1.7+ MB\n"
     ]
    },
    {
     "data": {
      "text/plain": [
       "None"
      ]
     },
     "metadata": {},
     "output_type": "display_data"
    }
   ],
   "source": [
    "# Print the general/summary information about the messages' DataFrame\n",
    "\n",
    "#show sample entries, null counts, data types\n",
    "display(messages_df.sample(5))\n",
    "print()\n",
    "print()\n",
    "print()\n",
    "display(messages_df.info())"
   ]
  },
  {
   "cell_type": "markdown",
   "metadata": {},
   "source": [
    "### Observations\n",
    "* Column descriptions:\n",
    "  * id — unique text message identifier\n",
    "  * message_date — text message date\n",
    "  * user_id — the identifier of the user sending the text\n",
    "* Column name updates needed:\n",
    "  * 'id' to 'message_id'\n",
    "* Data type updates needed:\n",
    "  * 'user_id' to object\n",
    "  * 'message_date' to datetime\n",
    "* No null values"
   ]
  },
  {
   "cell_type": "markdown",
   "metadata": {},
   "source": [
    "### Fix data"
   ]
  },
  {
   "cell_type": "code",
   "execution_count": 19,
   "metadata": {},
   "outputs": [
    {
     "name": "stdout",
     "output_type": "stream",
     "text": [
      "Updated Headers:\n",
      "\n",
      "Index(['msg_id', 'user_id', 'msg_date'], dtype='object')\n"
     ]
    }
   ],
   "source": [
    "#Rename columns as per above:\n",
    "messages_df = messages_df.rename(columns={'id':'msg_id', 'message_date':'msg_date'})\n",
    "\n",
    "#Check resulting column names:\n",
    "print('Updated Headers:')\n",
    "print()\n",
    "print(messages_df.columns)\n",
    "\n",
    "\n"
   ]
  },
  {
   "cell_type": "code",
   "execution_count": 20,
   "metadata": {},
   "outputs": [
    {
     "name": "stdout",
     "output_type": "stream",
     "text": [
      "Updated Data Types:\n",
      "\n",
      "msg_id              object\n",
      "user_id             object\n",
      "msg_date    datetime64[ns]\n",
      "dtype: object\n"
     ]
    }
   ],
   "source": [
    "#Update data types as per above review:\n",
    "messages_df['msg_id'] = messages_df['msg_id'].astype('object')\n",
    "messages_df['user_id'] = messages_df['user_id'].astype('object')\n",
    "messages_df['msg_date'] = pd.to_datetime(messages_df['msg_date'])\n",
    "\n",
    "#Confirm resulting data types:\n",
    "print('Updated Data Types:')\n",
    "print()\n",
    "print(messages_df.dtypes)\n",
    "\n"
   ]
  },
  {
   "cell_type": "code",
   "execution_count": 21,
   "metadata": {},
   "outputs": [
    {
     "name": "stdout",
     "output_type": "stream",
     "text": [
      "Number of duplicated entries:\n",
      "0\n",
      "\n",
      "\n",
      "Number of duplicated message ID's:\n",
      "0\n"
     ]
    }
   ],
   "source": [
    "# counting clear duplicates full row:\n",
    "print('Number of duplicated entries:')\n",
    "print(messages_df.duplicated().sum())\n",
    "print()\n",
    "print()\n",
    "print('Number of duplicated message ID\\'s:')\n",
    "print(messages_df.msg_id.duplicated().sum())"
   ]
  },
  {
   "cell_type": "markdown",
   "metadata": {},
   "source": [
    "### Enrich data"
   ]
  },
  {
   "cell_type": "markdown",
   "metadata": {},
   "source": [
    "**Helpful Changes**\n",
    "* Columns to add:\n",
    "  * month - holds month text was sent\n",
    "* Create new dataframe to preserve all of the original data\n",
    "* Columns to drop:\n",
    "  * msg_date - we have all the needed information stored in 'month' column"
   ]
  },
  {
   "cell_type": "code",
   "execution_count": 22,
   "metadata": {},
   "outputs": [
    {
     "name": "stdout",
     "output_type": "stream",
     "text": [
      "        msg_id user_id  month\n",
      "7261  1059_133    1059      8\n",
      "['1000_125' '1000_160' '1000_223' ... '1497_547' '1497_558' '1497_613']\n"
     ]
    }
   ],
   "source": [
    "#Adding a month of text column:\n",
    "messages_df['month'] = messages_df['msg_date'].dt.month\n",
    "\n",
    "# Creating new dataframe and dropping columns:\n",
    "messages = messages_df.drop(columns = ['msg_date'])\n",
    "print(messages.sample(1))\n",
    "print(messages.msg_id.unique())"
   ]
  },
  {
   "cell_type": "markdown",
   "metadata": {},
   "source": [
    "## Internet"
   ]
  },
  {
   "cell_type": "code",
   "execution_count": 23,
   "metadata": {},
   "outputs": [
    {
     "data": {
      "text/html": [
       "<div>\n",
       "<style scoped>\n",
       "    .dataframe tbody tr th:only-of-type {\n",
       "        vertical-align: middle;\n",
       "    }\n",
       "\n",
       "    .dataframe tbody tr th {\n",
       "        vertical-align: top;\n",
       "    }\n",
       "\n",
       "    .dataframe thead th {\n",
       "        text-align: right;\n",
       "    }\n",
       "</style>\n",
       "<table border=\"1\" class=\"dataframe\">\n",
       "  <thead>\n",
       "    <tr style=\"text-align: right;\">\n",
       "      <th></th>\n",
       "      <th>id</th>\n",
       "      <th>user_id</th>\n",
       "      <th>session_date</th>\n",
       "      <th>mb_used</th>\n",
       "    </tr>\n",
       "  </thead>\n",
       "  <tbody>\n",
       "    <tr>\n",
       "      <th>13819</th>\n",
       "      <td>1064_267</td>\n",
       "      <td>1064</td>\n",
       "      <td>2018-10-23</td>\n",
       "      <td>633.30</td>\n",
       "    </tr>\n",
       "    <tr>\n",
       "      <th>43974</th>\n",
       "      <td>1195_111</td>\n",
       "      <td>1195</td>\n",
       "      <td>2018-10-20</td>\n",
       "      <td>256.80</td>\n",
       "    </tr>\n",
       "    <tr>\n",
       "      <th>16542</th>\n",
       "      <td>1074_44</td>\n",
       "      <td>1074</td>\n",
       "      <td>2018-12-11</td>\n",
       "      <td>925.04</td>\n",
       "    </tr>\n",
       "    <tr>\n",
       "      <th>89294</th>\n",
       "      <td>1412_9</td>\n",
       "      <td>1412</td>\n",
       "      <td>2018-12-17</td>\n",
       "      <td>844.06</td>\n",
       "    </tr>\n",
       "    <tr>\n",
       "      <th>3260</th>\n",
       "      <td>1018_45</td>\n",
       "      <td>1018</td>\n",
       "      <td>2018-10-30</td>\n",
       "      <td>759.50</td>\n",
       "    </tr>\n",
       "  </tbody>\n",
       "</table>\n",
       "</div>"
      ],
      "text/plain": [
       "             id  user_id session_date  mb_used\n",
       "13819  1064_267     1064   2018-10-23   633.30\n",
       "43974  1195_111     1195   2018-10-20   256.80\n",
       "16542   1074_44     1074   2018-12-11   925.04\n",
       "89294    1412_9     1412   2018-12-17   844.06\n",
       "3260    1018_45     1018   2018-10-30   759.50"
      ]
     },
     "metadata": {},
     "output_type": "display_data"
    },
    {
     "name": "stdout",
     "output_type": "stream",
     "text": [
      "\n",
      "\n",
      "\n",
      "<class 'pandas.core.frame.DataFrame'>\n",
      "RangeIndex: 104825 entries, 0 to 104824\n",
      "Data columns (total 4 columns):\n",
      " #   Column        Non-Null Count   Dtype  \n",
      "---  ------        --------------   -----  \n",
      " 0   id            104825 non-null  object \n",
      " 1   user_id       104825 non-null  int64  \n",
      " 2   session_date  104825 non-null  object \n",
      " 3   mb_used       104825 non-null  float64\n",
      "dtypes: float64(1), int64(1), object(2)\n",
      "memory usage: 3.2+ MB\n"
     ]
    },
    {
     "data": {
      "text/plain": [
       "None"
      ]
     },
     "metadata": {},
     "output_type": "display_data"
    }
   ],
   "source": [
    "# Print the general/summary information about the internet DataFrame\n",
    "#show sample entries, null counts, data types\n",
    "display(internet_df.sample(5))\n",
    "print()\n",
    "print()\n",
    "print()\n",
    "display(internet_df.info())\n"
   ]
  },
  {
   "cell_type": "markdown",
   "metadata": {},
   "source": [
    "### Observations\n",
    "* Column desctiptions:\n",
    "  * id — unique session identifier\n",
    "  * mb_used — the volume of data spent during the session (in megabytes)\n",
    "  * session_date — web session date\n",
    "  * user_id — user identifier\n",
    "* Column name updates needed:\n",
    "  * 'id' to 'web_id'\n",
    "  * add a month column\n",
    "* Data type updates needed:\n",
    "  * 'user_id' to object\n",
    "  * 'session_date' to datetime\n",
    "* No null values"
   ]
  },
  {
   "cell_type": "markdown",
   "metadata": {},
   "source": [
    "### Fix data"
   ]
  },
  {
   "cell_type": "code",
   "execution_count": 24,
   "metadata": {},
   "outputs": [
    {
     "data": {
      "text/plain": [
       "Index(['web_id', 'user_id', 'session_date', 'mb_used'], dtype='object')"
      ]
     },
     "execution_count": 24,
     "metadata": {},
     "output_type": "execute_result"
    }
   ],
   "source": [
    "\n",
    "#Rename columns as per above:\n",
    "internet_df = internet_df.rename(columns={'id':'web_id'})\n",
    "\n",
    "internet_df.columns"
   ]
  },
  {
   "cell_type": "code",
   "execution_count": 25,
   "metadata": {},
   "outputs": [
    {
     "name": "stdout",
     "output_type": "stream",
     "text": [
      "Updated Data Types:\n",
      "\n",
      "web_id                  object\n",
      "user_id                 object\n",
      "session_date    datetime64[ns]\n",
      "mb_used                float64\n",
      "dtype: object\n"
     ]
    }
   ],
   "source": [
    "#Update data types as per above review:\n",
    "internet_df['web_id'] = internet_df['web_id'].astype('object')\n",
    "internet_df['user_id'] = internet_df['user_id'].astype('object')\n",
    "internet_df['session_date'] = pd.to_datetime(internet_df['session_date'])\n",
    "\n",
    "#Confirm resulting data types:\n",
    "print('Updated Data Types:')\n",
    "print()\n",
    "print(internet_df.dtypes)\n",
    "\n"
   ]
  },
  {
   "cell_type": "code",
   "execution_count": 26,
   "metadata": {},
   "outputs": [
    {
     "name": "stdout",
     "output_type": "stream",
     "text": [
      "Number of duplicated entries:\n",
      "0\n",
      "\n",
      "\n",
      "Number of duplicated session ID's:\n",
      "0\n"
     ]
    }
   ],
   "source": [
    "## counting clear duplicates full row:\n",
    "print('Number of duplicated entries:')\n",
    "print(internet_df.duplicated().sum())\n",
    "print()\n",
    "print()\n",
    "print('Number of duplicated session ID\\'s:')\n",
    "print(internet_df.web_id.duplicated().sum())"
   ]
  },
  {
   "cell_type": "markdown",
   "metadata": {},
   "source": [
    "### Enrich data"
   ]
  },
  {
   "cell_type": "markdown",
   "metadata": {},
   "source": [
    "**Helpful Changes**\n",
    "* Columns to add:\n",
    "  * gb_used - the plan is charged by extra GB, so this will streamline handling.\n",
    "  * month - holds month internet was accessed\n",
    "* Create new dataframe to preserve all of the original data\n",
    "* Columns to drop:\n",
    "  * session_date - we have all the needed information stored in 'month' column"
   ]
  },
  {
   "cell_type": "code",
   "execution_count": 27,
   "metadata": {},
   "outputs": [
    {
     "name": "stdout",
     "output_type": "stream",
     "text": [
      "         web_id user_id session_date  mb_used  gb_used  month\n",
      "56072  1253_136    1253   2018-12-26   275.61  0.26915     12\n"
     ]
    }
   ],
   "source": [
    "# Add column names and formulas:\n",
    "internet_df['gb_used'] = (internet_df['mb_used'])/1024\n",
    "internet_df['month'] = internet_df['session_date'].dt.month\n",
    "print(internet_df.sample(1))"
   ]
  },
  {
   "cell_type": "code",
   "execution_count": 28,
   "metadata": {
    "scrolled": true
   },
   "outputs": [
    {
     "data": {
      "text/html": [
       "<div>\n",
       "<style scoped>\n",
       "    .dataframe tbody tr th:only-of-type {\n",
       "        vertical-align: middle;\n",
       "    }\n",
       "\n",
       "    .dataframe tbody tr th {\n",
       "        vertical-align: top;\n",
       "    }\n",
       "\n",
       "    .dataframe thead th {\n",
       "        text-align: right;\n",
       "    }\n",
       "</style>\n",
       "<table border=\"1\" class=\"dataframe\">\n",
       "  <thead>\n",
       "    <tr style=\"text-align: right;\">\n",
       "      <th></th>\n",
       "      <th>user_id</th>\n",
       "      <th>gb_used</th>\n",
       "      <th>month</th>\n",
       "    </tr>\n",
       "  </thead>\n",
       "  <tbody>\n",
       "    <tr>\n",
       "      <th>48970</th>\n",
       "      <td>1219</td>\n",
       "      <td>0.107861</td>\n",
       "      <td>12</td>\n",
       "    </tr>\n",
       "  </tbody>\n",
       "</table>\n",
       "</div>"
      ],
      "text/plain": [
       "      user_id   gb_used  month\n",
       "48970    1219  0.107861     12"
      ]
     },
     "execution_count": 28,
     "metadata": {},
     "output_type": "execute_result"
    }
   ],
   "source": [
    "# Create new dataframe without extraneous columns:\n",
    "internet = internet_df.drop(columns = ['web_id','session_date', 'mb_used'])\n",
    "internet.sample(1)"
   ]
  },
  {
   "cell_type": "markdown",
   "metadata": {},
   "source": [
    "# Data Analysis"
   ]
  },
  {
   "cell_type": "markdown",
   "metadata": {},
   "source": [
    "## Plan of Action\n",
    "\n",
    "* Study plan conditions\n",
    "  * review Surf and Ultimate Plan conditions\n",
    "  * review 'plans' dataframe to confirm it accurately reflects plan conditions\n",
    "* Aggregate data per user per month\n",
    "  * group and merge ll user/use data by user_id and month\n",
    "  * calculate revenue per user per month\n",
    "  * merge revenue dataframe with user/use dataframe\n",
    "* Study user behavior\n",
    "  * create bar graphs of the averages of measurable behavior by plan, month and population\n",
    "  * create histograms of the sums of measurable behavior by plan, month and population\n",
    "  * create box plots of the distributions of measurable behavior by plan, month and population"
   ]
  },
  {
   "cell_type": "markdown",
   "metadata": {},
   "source": [
    "## Study plan conditions"
   ]
  },
  {
   "cell_type": "markdown",
   "metadata": {},
   "source": [
    "* Surf monthly (USD)\n",
    "  * cost - 20\n",
    "  * minutes\n",
    "    * included - 500 minutes\n",
    "    * additional (no partials) - .03/minute\n",
    "    * tallied and rounded up upon completion\n",
    "  * messages\n",
    "    * included - 50 texts\n",
    "    * additional - .03/text\n",
    "    * tallied upon completion\n",
    "  * data\n",
    "    * included - 15GB data\n",
    "    * additional - 10/GB\n",
    "    * summed and rounded up at end of month\n",
    "\n",
    "* Ultimate monthly (USD)\n",
    "  * cost - 70\n",
    "  * minutes\n",
    "    * included - 1000\n",
    "    * additional (no partials) - .01/minute\n",
    "    * tallied and **rounded up** upon **completion**\n",
    "  * tests\n",
    "    * included - 1000\n",
    "    * additional - .01/text\n",
    "    * tallied upon completion\n",
    "  * data\n",
    "    * included - 30GB\n",
    "    * additional - 7/GB\n",
    "    * summed and **rounded up** at **end of month**\n"
   ]
  },
  {
   "cell_type": "code",
   "execution_count": 29,
   "metadata": {},
   "outputs": [
    {
     "data": {
      "text/html": [
       "<div>\n",
       "<style scoped>\n",
       "    .dataframe tbody tr th:only-of-type {\n",
       "        vertical-align: middle;\n",
       "    }\n",
       "\n",
       "    .dataframe tbody tr th {\n",
       "        vertical-align: top;\n",
       "    }\n",
       "\n",
       "    .dataframe thead th {\n",
       "        text-align: right;\n",
       "    }\n",
       "</style>\n",
       "<table border=\"1\" class=\"dataframe\">\n",
       "  <thead>\n",
       "    <tr style=\"text-align: right;\">\n",
       "      <th></th>\n",
       "      <th>msgs_incl</th>\n",
       "      <th>min_incl</th>\n",
       "      <th>plan_usd</th>\n",
       "      <th>gb_usd</th>\n",
       "      <th>msg_usd</th>\n",
       "      <th>min_usd</th>\n",
       "      <th>gb_incl</th>\n",
       "    </tr>\n",
       "    <tr>\n",
       "      <th>plan</th>\n",
       "      <th></th>\n",
       "      <th></th>\n",
       "      <th></th>\n",
       "      <th></th>\n",
       "      <th></th>\n",
       "      <th></th>\n",
       "      <th></th>\n",
       "    </tr>\n",
       "  </thead>\n",
       "  <tbody>\n",
       "    <tr>\n",
       "      <th>surf</th>\n",
       "      <td>50</td>\n",
       "      <td>500</td>\n",
       "      <td>20.0</td>\n",
       "      <td>10.0</td>\n",
       "      <td>0.03</td>\n",
       "      <td>0.03</td>\n",
       "      <td>15</td>\n",
       "    </tr>\n",
       "    <tr>\n",
       "      <th>ultimate</th>\n",
       "      <td>1000</td>\n",
       "      <td>3000</td>\n",
       "      <td>70.0</td>\n",
       "      <td>7.0</td>\n",
       "      <td>0.01</td>\n",
       "      <td>0.01</td>\n",
       "      <td>30</td>\n",
       "    </tr>\n",
       "  </tbody>\n",
       "</table>\n",
       "</div>"
      ],
      "text/plain": [
       "          msgs_incl  min_incl  plan_usd  gb_usd  msg_usd  min_usd  gb_incl\n",
       "plan                                                                      \n",
       "surf             50       500      20.0    10.0     0.03     0.03       15\n",
       "ultimate       1000      3000      70.0     7.0     0.01     0.01       30"
      ]
     },
     "execution_count": 29,
     "metadata": {},
     "output_type": "execute_result"
    }
   ],
   "source": [
    "# Print out the plan conditions and make sure they are clear for you\n",
    "plans\n"
   ]
  },
  {
   "cell_type": "markdown",
   "metadata": {},
   "source": [
    "## Aggregate data per user"
   ]
  },
  {
   "cell_type": "markdown",
   "metadata": {},
   "source": [
    "### Group and calculate sums:"
   ]
  },
  {
   "cell_type": "markdown",
   "metadata": {},
   "source": [
    "#### Calls"
   ]
  },
  {
   "cell_type": "code",
   "execution_count": 30,
   "metadata": {},
   "outputs": [
    {
     "data": {
      "text/html": [
       "<div>\n",
       "<style scoped>\n",
       "    .dataframe tbody tr th:only-of-type {\n",
       "        vertical-align: middle;\n",
       "    }\n",
       "\n",
       "    .dataframe tbody tr th {\n",
       "        vertical-align: top;\n",
       "    }\n",
       "\n",
       "    .dataframe thead th {\n",
       "        text-align: right;\n",
       "    }\n",
       "</style>\n",
       "<table border=\"1\" class=\"dataframe\">\n",
       "  <thead>\n",
       "    <tr style=\"text-align: right;\">\n",
       "      <th></th>\n",
       "      <th>user_id</th>\n",
       "      <th>month</th>\n",
       "      <th>ttl_calls</th>\n",
       "      <th>sum_dur</th>\n",
       "      <th>sum_minspent</th>\n",
       "      <th>mean_dur</th>\n",
       "      <th>mean_minspent</th>\n",
       "    </tr>\n",
       "  </thead>\n",
       "  <tbody>\n",
       "    <tr>\n",
       "      <th>0</th>\n",
       "      <td>1000</td>\n",
       "      <td>12</td>\n",
       "      <td>16</td>\n",
       "      <td>116.83</td>\n",
       "      <td>124</td>\n",
       "      <td>7.301875</td>\n",
       "      <td>7.750000</td>\n",
       "    </tr>\n",
       "    <tr>\n",
       "      <th>1</th>\n",
       "      <td>1001</td>\n",
       "      <td>8</td>\n",
       "      <td>27</td>\n",
       "      <td>171.14</td>\n",
       "      <td>182</td>\n",
       "      <td>6.338519</td>\n",
       "      <td>6.740741</td>\n",
       "    </tr>\n",
       "    <tr>\n",
       "      <th>2</th>\n",
       "      <td>1001</td>\n",
       "      <td>9</td>\n",
       "      <td>49</td>\n",
       "      <td>297.69</td>\n",
       "      <td>315</td>\n",
       "      <td>6.075306</td>\n",
       "      <td>6.428571</td>\n",
       "    </tr>\n",
       "    <tr>\n",
       "      <th>3</th>\n",
       "      <td>1001</td>\n",
       "      <td>10</td>\n",
       "      <td>65</td>\n",
       "      <td>374.11</td>\n",
       "      <td>393</td>\n",
       "      <td>5.755538</td>\n",
       "      <td>6.046154</td>\n",
       "    </tr>\n",
       "    <tr>\n",
       "      <th>4</th>\n",
       "      <td>1001</td>\n",
       "      <td>11</td>\n",
       "      <td>64</td>\n",
       "      <td>404.59</td>\n",
       "      <td>426</td>\n",
       "      <td>6.321719</td>\n",
       "      <td>6.656250</td>\n",
       "    </tr>\n",
       "    <tr>\n",
       "      <th>...</th>\n",
       "      <td>...</td>\n",
       "      <td>...</td>\n",
       "      <td>...</td>\n",
       "      <td>...</td>\n",
       "      <td>...</td>\n",
       "      <td>...</td>\n",
       "      <td>...</td>\n",
       "    </tr>\n",
       "    <tr>\n",
       "      <th>2253</th>\n",
       "      <td>1498</td>\n",
       "      <td>12</td>\n",
       "      <td>39</td>\n",
       "      <td>324.77</td>\n",
       "      <td>339</td>\n",
       "      <td>8.327436</td>\n",
       "      <td>8.692308</td>\n",
       "    </tr>\n",
       "    <tr>\n",
       "      <th>2254</th>\n",
       "      <td>1499</td>\n",
       "      <td>9</td>\n",
       "      <td>41</td>\n",
       "      <td>330.37</td>\n",
       "      <td>346</td>\n",
       "      <td>8.057805</td>\n",
       "      <td>8.439024</td>\n",
       "    </tr>\n",
       "    <tr>\n",
       "      <th>2255</th>\n",
       "      <td>1499</td>\n",
       "      <td>10</td>\n",
       "      <td>53</td>\n",
       "      <td>363.28</td>\n",
       "      <td>385</td>\n",
       "      <td>6.854340</td>\n",
       "      <td>7.264151</td>\n",
       "    </tr>\n",
       "    <tr>\n",
       "      <th>2256</th>\n",
       "      <td>1499</td>\n",
       "      <td>11</td>\n",
       "      <td>45</td>\n",
       "      <td>288.56</td>\n",
       "      <td>308</td>\n",
       "      <td>6.412444</td>\n",
       "      <td>6.844444</td>\n",
       "    </tr>\n",
       "    <tr>\n",
       "      <th>2257</th>\n",
       "      <td>1499</td>\n",
       "      <td>12</td>\n",
       "      <td>65</td>\n",
       "      <td>468.10</td>\n",
       "      <td>496</td>\n",
       "      <td>7.201538</td>\n",
       "      <td>7.630769</td>\n",
       "    </tr>\n",
       "  </tbody>\n",
       "</table>\n",
       "<p>2258 rows × 7 columns</p>\n",
       "</div>"
      ],
      "text/plain": [
       "      user_id  month  ttl_calls  sum_dur  sum_minspent  mean_dur  \\\n",
       "0        1000     12         16   116.83           124  7.301875   \n",
       "1        1001      8         27   171.14           182  6.338519   \n",
       "2        1001      9         49   297.69           315  6.075306   \n",
       "3        1001     10         65   374.11           393  5.755538   \n",
       "4        1001     11         64   404.59           426  6.321719   \n",
       "...       ...    ...        ...      ...           ...       ...   \n",
       "2253     1498     12         39   324.77           339  8.327436   \n",
       "2254     1499      9         41   330.37           346  8.057805   \n",
       "2255     1499     10         53   363.28           385  6.854340   \n",
       "2256     1499     11         45   288.56           308  6.412444   \n",
       "2257     1499     12         65   468.10           496  7.201538   \n",
       "\n",
       "      mean_minspent  \n",
       "0          7.750000  \n",
       "1          6.740741  \n",
       "2          6.428571  \n",
       "3          6.046154  \n",
       "4          6.656250  \n",
       "...             ...  \n",
       "2253       8.692308  \n",
       "2254       8.439024  \n",
       "2255       7.264151  \n",
       "2256       6.844444  \n",
       "2257       7.630769  \n",
       "\n",
       "[2258 rows x 7 columns]"
      ]
     },
     "metadata": {},
     "output_type": "display_data"
    }
   ],
   "source": [
    "# Group calls made and the total duration by each user per month. Save the result.\n",
    "\n",
    "# Isolate min_spent column to count and set index, rename columns\n",
    "call_data = calls.pivot_table(values=['duration', 'min_spent'], index = ['user_id', 'month'], aggfunc = ['count', 'sum', 'mean'])\n",
    "call_data = call_data.reset_index()\n",
    "\n",
    "call_data.columns = ['user_id', 'month', 'ttl_calls', 'drop_me', 'sum_dur', 'sum_minspent', 'mean_dur', 'mean_minspent' ]\n",
    "call_data = call_data.drop(columns = {'drop_me'})\n",
    "display(call_data)\n"
   ]
  },
  {
   "cell_type": "markdown",
   "metadata": {},
   "source": [
    "#### Messages"
   ]
  },
  {
   "cell_type": "code",
   "execution_count": 31,
   "metadata": {},
   "outputs": [
    {
     "data": {
      "text/html": [
       "<div>\n",
       "<style scoped>\n",
       "    .dataframe tbody tr th:only-of-type {\n",
       "        vertical-align: middle;\n",
       "    }\n",
       "\n",
       "    .dataframe tbody tr th {\n",
       "        vertical-align: top;\n",
       "    }\n",
       "\n",
       "    .dataframe thead th {\n",
       "        text-align: right;\n",
       "    }\n",
       "</style>\n",
       "<table border=\"1\" class=\"dataframe\">\n",
       "  <thead>\n",
       "    <tr style=\"text-align: right;\">\n",
       "      <th></th>\n",
       "      <th>user_id</th>\n",
       "      <th>month</th>\n",
       "      <th>ttl_msgs</th>\n",
       "      <th>sum_msgspent</th>\n",
       "    </tr>\n",
       "  </thead>\n",
       "  <tbody>\n",
       "    <tr>\n",
       "      <th>0</th>\n",
       "      <td>1000</td>\n",
       "      <td>12</td>\n",
       "      <td>11</td>\n",
       "      <td>11</td>\n",
       "    </tr>\n",
       "    <tr>\n",
       "      <th>1</th>\n",
       "      <td>1001</td>\n",
       "      <td>8</td>\n",
       "      <td>30</td>\n",
       "      <td>30</td>\n",
       "    </tr>\n",
       "    <tr>\n",
       "      <th>2</th>\n",
       "      <td>1001</td>\n",
       "      <td>9</td>\n",
       "      <td>44</td>\n",
       "      <td>44</td>\n",
       "    </tr>\n",
       "    <tr>\n",
       "      <th>3</th>\n",
       "      <td>1001</td>\n",
       "      <td>10</td>\n",
       "      <td>53</td>\n",
       "      <td>53</td>\n",
       "    </tr>\n",
       "    <tr>\n",
       "      <th>4</th>\n",
       "      <td>1001</td>\n",
       "      <td>11</td>\n",
       "      <td>36</td>\n",
       "      <td>36</td>\n",
       "    </tr>\n",
       "    <tr>\n",
       "      <th>...</th>\n",
       "      <td>...</td>\n",
       "      <td>...</td>\n",
       "      <td>...</td>\n",
       "      <td>...</td>\n",
       "    </tr>\n",
       "    <tr>\n",
       "      <th>1801</th>\n",
       "      <td>1496</td>\n",
       "      <td>9</td>\n",
       "      <td>21</td>\n",
       "      <td>21</td>\n",
       "    </tr>\n",
       "    <tr>\n",
       "      <th>1802</th>\n",
       "      <td>1496</td>\n",
       "      <td>10</td>\n",
       "      <td>18</td>\n",
       "      <td>18</td>\n",
       "    </tr>\n",
       "    <tr>\n",
       "      <th>1803</th>\n",
       "      <td>1496</td>\n",
       "      <td>11</td>\n",
       "      <td>13</td>\n",
       "      <td>13</td>\n",
       "    </tr>\n",
       "    <tr>\n",
       "      <th>1804</th>\n",
       "      <td>1496</td>\n",
       "      <td>12</td>\n",
       "      <td>11</td>\n",
       "      <td>11</td>\n",
       "    </tr>\n",
       "    <tr>\n",
       "      <th>1805</th>\n",
       "      <td>1497</td>\n",
       "      <td>12</td>\n",
       "      <td>50</td>\n",
       "      <td>50</td>\n",
       "    </tr>\n",
       "  </tbody>\n",
       "</table>\n",
       "<p>1806 rows × 4 columns</p>\n",
       "</div>"
      ],
      "text/plain": [
       "      user_id  month  ttl_msgs  sum_msgspent\n",
       "0        1000     12        11            11\n",
       "1        1001      8        30            30\n",
       "2        1001      9        44            44\n",
       "3        1001     10        53            53\n",
       "4        1001     11        36            36\n",
       "...       ...    ...       ...           ...\n",
       "1801     1496      9        21            21\n",
       "1802     1496     10        18            18\n",
       "1803     1496     11        13            13\n",
       "1804     1496     12        11            11\n",
       "1805     1497     12        50            50\n",
       "\n",
       "[1806 rows x 4 columns]"
      ]
     },
     "execution_count": 31,
     "metadata": {},
     "output_type": "execute_result"
    }
   ],
   "source": [
    "# Calculate the number of messages sent by each user per month. Save the result.\n",
    "#Isolate message information, count, index, rename columns\n",
    "msg_data = messages.pivot_table(values=['msg_id'], index = ['user_id', 'month'], aggfunc = ['count'])\n",
    "msg_data.columns = ['ttl_msgs']\n",
    "msg_data['sum_msgspent'] = msg_data['ttl_msgs']\n",
    "msg_data = msg_data.reset_index()\n",
    "msg_data\n",
    "\n"
   ]
  },
  {
   "cell_type": "markdown",
   "metadata": {},
   "source": [
    "#### Internet"
   ]
  },
  {
   "cell_type": "code",
   "execution_count": 32,
   "metadata": {},
   "outputs": [
    {
     "data": {
      "text/html": [
       "<div>\n",
       "<style scoped>\n",
       "    .dataframe tbody tr th:only-of-type {\n",
       "        vertical-align: middle;\n",
       "    }\n",
       "\n",
       "    .dataframe tbody tr th {\n",
       "        vertical-align: top;\n",
       "    }\n",
       "\n",
       "    .dataframe thead th {\n",
       "        text-align: right;\n",
       "    }\n",
       "</style>\n",
       "<table border=\"1\" class=\"dataframe\">\n",
       "  <thead>\n",
       "    <tr style=\"text-align: right;\">\n",
       "      <th></th>\n",
       "      <th>user_id</th>\n",
       "      <th>month</th>\n",
       "      <th>ttl_sesn</th>\n",
       "      <th>sum_gbused</th>\n",
       "      <th>sum_gbspent</th>\n",
       "    </tr>\n",
       "  </thead>\n",
       "  <tbody>\n",
       "    <tr>\n",
       "      <th>2174</th>\n",
       "      <td>1475</td>\n",
       "      <td>9</td>\n",
       "      <td>53</td>\n",
       "      <td>16.830840</td>\n",
       "      <td>17</td>\n",
       "    </tr>\n",
       "    <tr>\n",
       "      <th>287</th>\n",
       "      <td>1064</td>\n",
       "      <td>6</td>\n",
       "      <td>16</td>\n",
       "      <td>6.418193</td>\n",
       "      <td>7</td>\n",
       "    </tr>\n",
       "    <tr>\n",
       "      <th>1795</th>\n",
       "      <td>1388</td>\n",
       "      <td>12</td>\n",
       "      <td>39</td>\n",
       "      <td>12.951943</td>\n",
       "      <td>13</td>\n",
       "    </tr>\n",
       "    <tr>\n",
       "      <th>2233</th>\n",
       "      <td>1491</td>\n",
       "      <td>9</td>\n",
       "      <td>27</td>\n",
       "      <td>6.875488</td>\n",
       "      <td>7</td>\n",
       "    </tr>\n",
       "  </tbody>\n",
       "</table>\n",
       "</div>"
      ],
      "text/plain": [
       "      user_id  month  ttl_sesn  sum_gbused  sum_gbspent\n",
       "2174     1475      9        53   16.830840           17\n",
       "287      1064      6        16    6.418193            7\n",
       "1795     1388     12        39   12.951943           13\n",
       "2233     1491      9        27    6.875488            7"
      ]
     },
     "execution_count": 32,
     "metadata": {},
     "output_type": "execute_result"
    }
   ],
   "source": [
    "# Calculate the volume of internet traffic used by each user per month. Save the result.\n",
    "\n",
    "# Isolate the gb_used data to sum over indexes user_id and month, rename columns\n",
    "web_data = internet.pivot_table(values='gb_used', index = ['user_id', 'month'], aggfunc = ['count','sum'])\n",
    "web_data.columns = ['ttl_sesn', 'sum_gbused']\n",
    "\n",
    "# Create new column for chargeable GB, Round monthly GB total up to next integer:\n",
    "web_data['sum_gbspent'] = np.ceil(web_data['sum_gbused'])\n",
    "web_data['sum_gbspent'] = web_data['sum_gbspent'].astype('int')\n",
    "web_data = web_data.reset_index()\n",
    "web_data.sample(4)"
   ]
  },
  {
   "cell_type": "markdown",
   "metadata": {},
   "source": [
    "#### User"
   ]
  },
  {
   "cell_type": "code",
   "execution_count": 33,
   "metadata": {},
   "outputs": [
    {
     "data": {
      "text/html": [
       "<div>\n",
       "<style scoped>\n",
       "    .dataframe tbody tr th:only-of-type {\n",
       "        vertical-align: middle;\n",
       "    }\n",
       "\n",
       "    .dataframe tbody tr th {\n",
       "        vertical-align: top;\n",
       "    }\n",
       "\n",
       "    .dataframe thead th {\n",
       "        text-align: right;\n",
       "    }\n",
       "</style>\n",
       "<table border=\"1\" class=\"dataframe\">\n",
       "  <thead>\n",
       "    <tr style=\"text-align: right;\">\n",
       "      <th></th>\n",
       "      <th>user_id</th>\n",
       "      <th>plan</th>\n",
       "      <th>ny_nj</th>\n",
       "    </tr>\n",
       "  </thead>\n",
       "  <tbody>\n",
       "    <tr>\n",
       "      <th>0</th>\n",
       "      <td>1000</td>\n",
       "      <td>ultimate</td>\n",
       "      <td>False</td>\n",
       "    </tr>\n",
       "    <tr>\n",
       "      <th>1</th>\n",
       "      <td>1001</td>\n",
       "      <td>surf</td>\n",
       "      <td>False</td>\n",
       "    </tr>\n",
       "    <tr>\n",
       "      <th>2</th>\n",
       "      <td>1002</td>\n",
       "      <td>surf</td>\n",
       "      <td>False</td>\n",
       "    </tr>\n",
       "    <tr>\n",
       "      <th>3</th>\n",
       "      <td>1003</td>\n",
       "      <td>surf</td>\n",
       "      <td>False</td>\n",
       "    </tr>\n",
       "    <tr>\n",
       "      <th>4</th>\n",
       "      <td>1004</td>\n",
       "      <td>surf</td>\n",
       "      <td>False</td>\n",
       "    </tr>\n",
       "    <tr>\n",
       "      <th>...</th>\n",
       "      <td>...</td>\n",
       "      <td>...</td>\n",
       "      <td>...</td>\n",
       "    </tr>\n",
       "    <tr>\n",
       "      <th>495</th>\n",
       "      <td>1495</td>\n",
       "      <td>surf</td>\n",
       "      <td>True</td>\n",
       "    </tr>\n",
       "    <tr>\n",
       "      <th>496</th>\n",
       "      <td>1496</td>\n",
       "      <td>surf</td>\n",
       "      <td>False</td>\n",
       "    </tr>\n",
       "    <tr>\n",
       "      <th>497</th>\n",
       "      <td>1497</td>\n",
       "      <td>ultimate</td>\n",
       "      <td>False</td>\n",
       "    </tr>\n",
       "    <tr>\n",
       "      <th>498</th>\n",
       "      <td>1498</td>\n",
       "      <td>surf</td>\n",
       "      <td>True</td>\n",
       "    </tr>\n",
       "    <tr>\n",
       "      <th>499</th>\n",
       "      <td>1499</td>\n",
       "      <td>surf</td>\n",
       "      <td>False</td>\n",
       "    </tr>\n",
       "  </tbody>\n",
       "</table>\n",
       "<p>500 rows × 3 columns</p>\n",
       "</div>"
      ],
      "text/plain": [
       "    user_id      plan  ny_nj\n",
       "0      1000  ultimate  False\n",
       "1      1001      surf  False\n",
       "2      1002      surf  False\n",
       "3      1003      surf  False\n",
       "4      1004      surf  False\n",
       "..      ...       ...    ...\n",
       "495    1495      surf   True\n",
       "496    1496      surf  False\n",
       "497    1497  ultimate  False\n",
       "498    1498      surf   True\n",
       "499    1499      surf  False\n",
       "\n",
       "[500 rows x 3 columns]"
      ]
     },
     "execution_count": 33,
     "metadata": {},
     "output_type": "execute_result"
    }
   ],
   "source": [
    "# Reduce user data to only id, plan and region information \n",
    "\n",
    "\n",
    "user_data = users[['user_id', 'plan', 'ny_nj']]\n",
    "user_data.sort_values('user_id')\n",
    "user_data"
   ]
  },
  {
   "cell_type": "markdown",
   "metadata": {},
   "source": [
    "### Combining"
   ]
  },
  {
   "cell_type": "code",
   "execution_count": 34,
   "metadata": {
    "scrolled": false
   },
   "outputs": [
    {
     "data": {
      "text/html": [
       "<div>\n",
       "<style scoped>\n",
       "    .dataframe tbody tr th:only-of-type {\n",
       "        vertical-align: middle;\n",
       "    }\n",
       "\n",
       "    .dataframe tbody tr th {\n",
       "        vertical-align: top;\n",
       "    }\n",
       "\n",
       "    .dataframe thead th {\n",
       "        text-align: right;\n",
       "    }\n",
       "</style>\n",
       "<table border=\"1\" class=\"dataframe\">\n",
       "  <thead>\n",
       "    <tr style=\"text-align: right;\">\n",
       "      <th></th>\n",
       "      <th>user_id</th>\n",
       "      <th>month</th>\n",
       "      <th>ttl_calls</th>\n",
       "      <th>sum_dur</th>\n",
       "      <th>sum_minspent</th>\n",
       "      <th>mean_dur</th>\n",
       "      <th>mean_minspent</th>\n",
       "      <th>ttl_msgs</th>\n",
       "      <th>sum_msgspent</th>\n",
       "    </tr>\n",
       "  </thead>\n",
       "  <tbody>\n",
       "    <tr>\n",
       "      <th>0</th>\n",
       "      <td>1000</td>\n",
       "      <td>12</td>\n",
       "      <td>16.0</td>\n",
       "      <td>116.83</td>\n",
       "      <td>124.0</td>\n",
       "      <td>7.301875</td>\n",
       "      <td>7.750000</td>\n",
       "      <td>11.0</td>\n",
       "      <td>11.0</td>\n",
       "    </tr>\n",
       "    <tr>\n",
       "      <th>1</th>\n",
       "      <td>1001</td>\n",
       "      <td>8</td>\n",
       "      <td>27.0</td>\n",
       "      <td>171.14</td>\n",
       "      <td>182.0</td>\n",
       "      <td>6.338519</td>\n",
       "      <td>6.740741</td>\n",
       "      <td>30.0</td>\n",
       "      <td>30.0</td>\n",
       "    </tr>\n",
       "    <tr>\n",
       "      <th>2</th>\n",
       "      <td>1001</td>\n",
       "      <td>9</td>\n",
       "      <td>49.0</td>\n",
       "      <td>297.69</td>\n",
       "      <td>315.0</td>\n",
       "      <td>6.075306</td>\n",
       "      <td>6.428571</td>\n",
       "      <td>44.0</td>\n",
       "      <td>44.0</td>\n",
       "    </tr>\n",
       "    <tr>\n",
       "      <th>3</th>\n",
       "      <td>1001</td>\n",
       "      <td>10</td>\n",
       "      <td>65.0</td>\n",
       "      <td>374.11</td>\n",
       "      <td>393.0</td>\n",
       "      <td>5.755538</td>\n",
       "      <td>6.046154</td>\n",
       "      <td>53.0</td>\n",
       "      <td>53.0</td>\n",
       "    </tr>\n",
       "    <tr>\n",
       "      <th>4</th>\n",
       "      <td>1001</td>\n",
       "      <td>11</td>\n",
       "      <td>64.0</td>\n",
       "      <td>404.59</td>\n",
       "      <td>426.0</td>\n",
       "      <td>6.321719</td>\n",
       "      <td>6.656250</td>\n",
       "      <td>36.0</td>\n",
       "      <td>36.0</td>\n",
       "    </tr>\n",
       "    <tr>\n",
       "      <th>...</th>\n",
       "      <td>...</td>\n",
       "      <td>...</td>\n",
       "      <td>...</td>\n",
       "      <td>...</td>\n",
       "      <td>...</td>\n",
       "      <td>...</td>\n",
       "      <td>...</td>\n",
       "      <td>...</td>\n",
       "      <td>...</td>\n",
       "    </tr>\n",
       "    <tr>\n",
       "      <th>2253</th>\n",
       "      <td>1498</td>\n",
       "      <td>12</td>\n",
       "      <td>39.0</td>\n",
       "      <td>324.77</td>\n",
       "      <td>339.0</td>\n",
       "      <td>8.327436</td>\n",
       "      <td>8.692308</td>\n",
       "      <td>NaN</td>\n",
       "      <td>NaN</td>\n",
       "    </tr>\n",
       "    <tr>\n",
       "      <th>2254</th>\n",
       "      <td>1499</td>\n",
       "      <td>9</td>\n",
       "      <td>41.0</td>\n",
       "      <td>330.37</td>\n",
       "      <td>346.0</td>\n",
       "      <td>8.057805</td>\n",
       "      <td>8.439024</td>\n",
       "      <td>NaN</td>\n",
       "      <td>NaN</td>\n",
       "    </tr>\n",
       "    <tr>\n",
       "      <th>2255</th>\n",
       "      <td>1499</td>\n",
       "      <td>10</td>\n",
       "      <td>53.0</td>\n",
       "      <td>363.28</td>\n",
       "      <td>385.0</td>\n",
       "      <td>6.854340</td>\n",
       "      <td>7.264151</td>\n",
       "      <td>NaN</td>\n",
       "      <td>NaN</td>\n",
       "    </tr>\n",
       "    <tr>\n",
       "      <th>2256</th>\n",
       "      <td>1499</td>\n",
       "      <td>11</td>\n",
       "      <td>45.0</td>\n",
       "      <td>288.56</td>\n",
       "      <td>308.0</td>\n",
       "      <td>6.412444</td>\n",
       "      <td>6.844444</td>\n",
       "      <td>NaN</td>\n",
       "      <td>NaN</td>\n",
       "    </tr>\n",
       "    <tr>\n",
       "      <th>2257</th>\n",
       "      <td>1499</td>\n",
       "      <td>12</td>\n",
       "      <td>65.0</td>\n",
       "      <td>468.10</td>\n",
       "      <td>496.0</td>\n",
       "      <td>7.201538</td>\n",
       "      <td>7.630769</td>\n",
       "      <td>NaN</td>\n",
       "      <td>NaN</td>\n",
       "    </tr>\n",
       "  </tbody>\n",
       "</table>\n",
       "<p>2291 rows × 9 columns</p>\n",
       "</div>"
      ],
      "text/plain": [
       "      user_id  month  ttl_calls  sum_dur  sum_minspent  mean_dur  \\\n",
       "0        1000     12       16.0   116.83         124.0  7.301875   \n",
       "1        1001      8       27.0   171.14         182.0  6.338519   \n",
       "2        1001      9       49.0   297.69         315.0  6.075306   \n",
       "3        1001     10       65.0   374.11         393.0  5.755538   \n",
       "4        1001     11       64.0   404.59         426.0  6.321719   \n",
       "...       ...    ...        ...      ...           ...       ...   \n",
       "2253     1498     12       39.0   324.77         339.0  8.327436   \n",
       "2254     1499      9       41.0   330.37         346.0  8.057805   \n",
       "2255     1499     10       53.0   363.28         385.0  6.854340   \n",
       "2256     1499     11       45.0   288.56         308.0  6.412444   \n",
       "2257     1499     12       65.0   468.10         496.0  7.201538   \n",
       "\n",
       "      mean_minspent  ttl_msgs  sum_msgspent  \n",
       "0          7.750000      11.0          11.0  \n",
       "1          6.740741      30.0          30.0  \n",
       "2          6.428571      44.0          44.0  \n",
       "3          6.046154      53.0          53.0  \n",
       "4          6.656250      36.0          36.0  \n",
       "...             ...       ...           ...  \n",
       "2253       8.692308       NaN           NaN  \n",
       "2254       8.439024       NaN           NaN  \n",
       "2255       7.264151       NaN           NaN  \n",
       "2256       6.844444       NaN           NaN  \n",
       "2257       7.630769       NaN           NaN  \n",
       "\n",
       "[2291 rows x 9 columns]"
      ]
     },
     "execution_count": 34,
     "metadata": {},
     "output_type": "execute_result"
    }
   ],
   "source": [
    "\n",
    "# Merge the data for calls, minutes, messages, internet based on user_id and month\n",
    "\n",
    "# merge call and text data on user_id and month\n",
    "calls_and_msg = pd.merge(call_data, msg_data, how = 'outer', on = ['user_id', 'month'])\n",
    "calls_and_msg.sort_values(['user_id', 'month'])"
   ]
  },
  {
   "cell_type": "code",
   "execution_count": 35,
   "metadata": {
    "scrolled": false
   },
   "outputs": [
    {
     "data": {
      "text/html": [
       "<div>\n",
       "<style scoped>\n",
       "    .dataframe tbody tr th:only-of-type {\n",
       "        vertical-align: middle;\n",
       "    }\n",
       "\n",
       "    .dataframe tbody tr th {\n",
       "        vertical-align: top;\n",
       "    }\n",
       "\n",
       "    .dataframe thead th {\n",
       "        text-align: right;\n",
       "    }\n",
       "</style>\n",
       "<table border=\"1\" class=\"dataframe\">\n",
       "  <thead>\n",
       "    <tr style=\"text-align: right;\">\n",
       "      <th></th>\n",
       "      <th>user_id</th>\n",
       "      <th>month</th>\n",
       "      <th>ttl_calls</th>\n",
       "      <th>sum_dur</th>\n",
       "      <th>sum_minspent</th>\n",
       "      <th>mean_dur</th>\n",
       "      <th>mean_minspent</th>\n",
       "      <th>ttl_msgs</th>\n",
       "      <th>sum_msgspent</th>\n",
       "      <th>ttl_sesn</th>\n",
       "      <th>sum_gbused</th>\n",
       "      <th>sum_gbspent</th>\n",
       "    </tr>\n",
       "  </thead>\n",
       "  <tbody>\n",
       "    <tr>\n",
       "      <th>0</th>\n",
       "      <td>1000</td>\n",
       "      <td>12</td>\n",
       "      <td>16.0</td>\n",
       "      <td>116.83</td>\n",
       "      <td>124.0</td>\n",
       "      <td>7.301875</td>\n",
       "      <td>7.750000</td>\n",
       "      <td>11.0</td>\n",
       "      <td>11.0</td>\n",
       "      <td>5.0</td>\n",
       "      <td>1.856904</td>\n",
       "      <td>2.0</td>\n",
       "    </tr>\n",
       "    <tr>\n",
       "      <th>1</th>\n",
       "      <td>1001</td>\n",
       "      <td>8</td>\n",
       "      <td>27.0</td>\n",
       "      <td>171.14</td>\n",
       "      <td>182.0</td>\n",
       "      <td>6.338519</td>\n",
       "      <td>6.740741</td>\n",
       "      <td>30.0</td>\n",
       "      <td>30.0</td>\n",
       "      <td>25.0</td>\n",
       "      <td>6.756982</td>\n",
       "      <td>7.0</td>\n",
       "    </tr>\n",
       "    <tr>\n",
       "      <th>2</th>\n",
       "      <td>1001</td>\n",
       "      <td>9</td>\n",
       "      <td>49.0</td>\n",
       "      <td>297.69</td>\n",
       "      <td>315.0</td>\n",
       "      <td>6.075306</td>\n",
       "      <td>6.428571</td>\n",
       "      <td>44.0</td>\n",
       "      <td>44.0</td>\n",
       "      <td>53.0</td>\n",
       "      <td>13.002754</td>\n",
       "      <td>14.0</td>\n",
       "    </tr>\n",
       "    <tr>\n",
       "      <th>3</th>\n",
       "      <td>1001</td>\n",
       "      <td>10</td>\n",
       "      <td>65.0</td>\n",
       "      <td>374.11</td>\n",
       "      <td>393.0</td>\n",
       "      <td>5.755538</td>\n",
       "      <td>6.046154</td>\n",
       "      <td>53.0</td>\n",
       "      <td>53.0</td>\n",
       "      <td>56.0</td>\n",
       "      <td>21.807119</td>\n",
       "      <td>22.0</td>\n",
       "    </tr>\n",
       "    <tr>\n",
       "      <th>4</th>\n",
       "      <td>1001</td>\n",
       "      <td>11</td>\n",
       "      <td>64.0</td>\n",
       "      <td>404.59</td>\n",
       "      <td>426.0</td>\n",
       "      <td>6.321719</td>\n",
       "      <td>6.656250</td>\n",
       "      <td>36.0</td>\n",
       "      <td>36.0</td>\n",
       "      <td>51.0</td>\n",
       "      <td>18.070605</td>\n",
       "      <td>19.0</td>\n",
       "    </tr>\n",
       "    <tr>\n",
       "      <th>...</th>\n",
       "      <td>...</td>\n",
       "      <td>...</td>\n",
       "      <td>...</td>\n",
       "      <td>...</td>\n",
       "      <td>...</td>\n",
       "      <td>...</td>\n",
       "      <td>...</td>\n",
       "      <td>...</td>\n",
       "      <td>...</td>\n",
       "      <td>...</td>\n",
       "      <td>...</td>\n",
       "      <td>...</td>\n",
       "    </tr>\n",
       "    <tr>\n",
       "      <th>2253</th>\n",
       "      <td>1498</td>\n",
       "      <td>12</td>\n",
       "      <td>39.0</td>\n",
       "      <td>324.77</td>\n",
       "      <td>339.0</td>\n",
       "      <td>8.327436</td>\n",
       "      <td>8.692308</td>\n",
       "      <td>NaN</td>\n",
       "      <td>NaN</td>\n",
       "      <td>65.0</td>\n",
       "      <td>22.595400</td>\n",
       "      <td>23.0</td>\n",
       "    </tr>\n",
       "    <tr>\n",
       "      <th>2254</th>\n",
       "      <td>1499</td>\n",
       "      <td>9</td>\n",
       "      <td>41.0</td>\n",
       "      <td>330.37</td>\n",
       "      <td>346.0</td>\n",
       "      <td>8.057805</td>\n",
       "      <td>8.439024</td>\n",
       "      <td>NaN</td>\n",
       "      <td>NaN</td>\n",
       "      <td>45.0</td>\n",
       "      <td>12.680430</td>\n",
       "      <td>13.0</td>\n",
       "    </tr>\n",
       "    <tr>\n",
       "      <th>2255</th>\n",
       "      <td>1499</td>\n",
       "      <td>10</td>\n",
       "      <td>53.0</td>\n",
       "      <td>363.28</td>\n",
       "      <td>385.0</td>\n",
       "      <td>6.854340</td>\n",
       "      <td>7.264151</td>\n",
       "      <td>NaN</td>\n",
       "      <td>NaN</td>\n",
       "      <td>61.0</td>\n",
       "      <td>19.035576</td>\n",
       "      <td>20.0</td>\n",
       "    </tr>\n",
       "    <tr>\n",
       "      <th>2256</th>\n",
       "      <td>1499</td>\n",
       "      <td>11</td>\n",
       "      <td>45.0</td>\n",
       "      <td>288.56</td>\n",
       "      <td>308.0</td>\n",
       "      <td>6.412444</td>\n",
       "      <td>6.844444</td>\n",
       "      <td>NaN</td>\n",
       "      <td>NaN</td>\n",
       "      <td>49.0</td>\n",
       "      <td>16.419756</td>\n",
       "      <td>17.0</td>\n",
       "    </tr>\n",
       "    <tr>\n",
       "      <th>2257</th>\n",
       "      <td>1499</td>\n",
       "      <td>12</td>\n",
       "      <td>65.0</td>\n",
       "      <td>468.10</td>\n",
       "      <td>496.0</td>\n",
       "      <td>7.201538</td>\n",
       "      <td>7.630769</td>\n",
       "      <td>NaN</td>\n",
       "      <td>NaN</td>\n",
       "      <td>65.0</td>\n",
       "      <td>21.542197</td>\n",
       "      <td>22.0</td>\n",
       "    </tr>\n",
       "  </tbody>\n",
       "</table>\n",
       "<p>2293 rows × 12 columns</p>\n",
       "</div>"
      ],
      "text/plain": [
       "      user_id  month  ttl_calls  sum_dur  sum_minspent  mean_dur  \\\n",
       "0        1000     12       16.0   116.83         124.0  7.301875   \n",
       "1        1001      8       27.0   171.14         182.0  6.338519   \n",
       "2        1001      9       49.0   297.69         315.0  6.075306   \n",
       "3        1001     10       65.0   374.11         393.0  5.755538   \n",
       "4        1001     11       64.0   404.59         426.0  6.321719   \n",
       "...       ...    ...        ...      ...           ...       ...   \n",
       "2253     1498     12       39.0   324.77         339.0  8.327436   \n",
       "2254     1499      9       41.0   330.37         346.0  8.057805   \n",
       "2255     1499     10       53.0   363.28         385.0  6.854340   \n",
       "2256     1499     11       45.0   288.56         308.0  6.412444   \n",
       "2257     1499     12       65.0   468.10         496.0  7.201538   \n",
       "\n",
       "      mean_minspent  ttl_msgs  sum_msgspent  ttl_sesn  sum_gbused  sum_gbspent  \n",
       "0          7.750000      11.0          11.0       5.0    1.856904          2.0  \n",
       "1          6.740741      30.0          30.0      25.0    6.756982          7.0  \n",
       "2          6.428571      44.0          44.0      53.0   13.002754         14.0  \n",
       "3          6.046154      53.0          53.0      56.0   21.807119         22.0  \n",
       "4          6.656250      36.0          36.0      51.0   18.070605         19.0  \n",
       "...             ...       ...           ...       ...         ...          ...  \n",
       "2253       8.692308       NaN           NaN      65.0   22.595400         23.0  \n",
       "2254       8.439024       NaN           NaN      45.0   12.680430         13.0  \n",
       "2255       7.264151       NaN           NaN      61.0   19.035576         20.0  \n",
       "2256       6.844444       NaN           NaN      49.0   16.419756         17.0  \n",
       "2257       7.630769       NaN           NaN      65.0   21.542197         22.0  \n",
       "\n",
       "[2293 rows x 12 columns]"
      ]
     },
     "execution_count": 35,
     "metadata": {},
     "output_type": "execute_result"
    }
   ],
   "source": [
    "\n",
    "# Merge call and text dataframe with web_data on user_id and month\n",
    "services_used = pd.merge(calls_and_msg, web_data, how = 'outer', on = ['user_id', 'month'])\n",
    "\n",
    "services_used.sort_values(['user_id', 'month'])\n"
   ]
  },
  {
   "cell_type": "code",
   "execution_count": 36,
   "metadata": {
    "scrolled": true
   },
   "outputs": [
    {
     "data": {
      "text/html": [
       "<div>\n",
       "<style scoped>\n",
       "    .dataframe tbody tr th:only-of-type {\n",
       "        vertical-align: middle;\n",
       "    }\n",
       "\n",
       "    .dataframe tbody tr th {\n",
       "        vertical-align: top;\n",
       "    }\n",
       "\n",
       "    .dataframe thead th {\n",
       "        text-align: right;\n",
       "    }\n",
       "</style>\n",
       "<table border=\"1\" class=\"dataframe\">\n",
       "  <thead>\n",
       "    <tr style=\"text-align: right;\">\n",
       "      <th></th>\n",
       "      <th>user_id</th>\n",
       "      <th>month</th>\n",
       "      <th>ttl_calls</th>\n",
       "      <th>sum_dur</th>\n",
       "      <th>sum_minspent</th>\n",
       "      <th>mean_dur</th>\n",
       "      <th>mean_minspent</th>\n",
       "      <th>ttl_msgs</th>\n",
       "      <th>sum_msgspent</th>\n",
       "      <th>ttl_sesn</th>\n",
       "      <th>sum_gbused</th>\n",
       "      <th>sum_gbspent</th>\n",
       "      <th>plan</th>\n",
       "      <th>ny_nj</th>\n",
       "    </tr>\n",
       "  </thead>\n",
       "  <tbody>\n",
       "    <tr>\n",
       "      <th>0</th>\n",
       "      <td>1000</td>\n",
       "      <td>12</td>\n",
       "      <td>16.0</td>\n",
       "      <td>116.83</td>\n",
       "      <td>124.0</td>\n",
       "      <td>7.301875</td>\n",
       "      <td>7.750000</td>\n",
       "      <td>11.0</td>\n",
       "      <td>11.0</td>\n",
       "      <td>5.0</td>\n",
       "      <td>1.856904</td>\n",
       "      <td>2.0</td>\n",
       "      <td>ultimate</td>\n",
       "      <td>False</td>\n",
       "    </tr>\n",
       "    <tr>\n",
       "      <th>1</th>\n",
       "      <td>1001</td>\n",
       "      <td>8</td>\n",
       "      <td>27.0</td>\n",
       "      <td>171.14</td>\n",
       "      <td>182.0</td>\n",
       "      <td>6.338519</td>\n",
       "      <td>6.740741</td>\n",
       "      <td>30.0</td>\n",
       "      <td>30.0</td>\n",
       "      <td>25.0</td>\n",
       "      <td>6.756982</td>\n",
       "      <td>7.0</td>\n",
       "      <td>surf</td>\n",
       "      <td>False</td>\n",
       "    </tr>\n",
       "    <tr>\n",
       "      <th>2</th>\n",
       "      <td>1001</td>\n",
       "      <td>9</td>\n",
       "      <td>49.0</td>\n",
       "      <td>297.69</td>\n",
       "      <td>315.0</td>\n",
       "      <td>6.075306</td>\n",
       "      <td>6.428571</td>\n",
       "      <td>44.0</td>\n",
       "      <td>44.0</td>\n",
       "      <td>53.0</td>\n",
       "      <td>13.002754</td>\n",
       "      <td>14.0</td>\n",
       "      <td>surf</td>\n",
       "      <td>False</td>\n",
       "    </tr>\n",
       "    <tr>\n",
       "      <th>3</th>\n",
       "      <td>1001</td>\n",
       "      <td>10</td>\n",
       "      <td>65.0</td>\n",
       "      <td>374.11</td>\n",
       "      <td>393.0</td>\n",
       "      <td>5.755538</td>\n",
       "      <td>6.046154</td>\n",
       "      <td>53.0</td>\n",
       "      <td>53.0</td>\n",
       "      <td>56.0</td>\n",
       "      <td>21.807119</td>\n",
       "      <td>22.0</td>\n",
       "      <td>surf</td>\n",
       "      <td>False</td>\n",
       "    </tr>\n",
       "    <tr>\n",
       "      <th>4</th>\n",
       "      <td>1001</td>\n",
       "      <td>11</td>\n",
       "      <td>64.0</td>\n",
       "      <td>404.59</td>\n",
       "      <td>426.0</td>\n",
       "      <td>6.321719</td>\n",
       "      <td>6.656250</td>\n",
       "      <td>36.0</td>\n",
       "      <td>36.0</td>\n",
       "      <td>51.0</td>\n",
       "      <td>18.070605</td>\n",
       "      <td>19.0</td>\n",
       "      <td>surf</td>\n",
       "      <td>False</td>\n",
       "    </tr>\n",
       "    <tr>\n",
       "      <th>...</th>\n",
       "      <td>...</td>\n",
       "      <td>...</td>\n",
       "      <td>...</td>\n",
       "      <td>...</td>\n",
       "      <td>...</td>\n",
       "      <td>...</td>\n",
       "      <td>...</td>\n",
       "      <td>...</td>\n",
       "      <td>...</td>\n",
       "      <td>...</td>\n",
       "      <td>...</td>\n",
       "      <td>...</td>\n",
       "      <td>...</td>\n",
       "      <td>...</td>\n",
       "    </tr>\n",
       "    <tr>\n",
       "      <th>2253</th>\n",
       "      <td>1498</td>\n",
       "      <td>12</td>\n",
       "      <td>39.0</td>\n",
       "      <td>324.77</td>\n",
       "      <td>339.0</td>\n",
       "      <td>8.327436</td>\n",
       "      <td>8.692308</td>\n",
       "      <td>NaN</td>\n",
       "      <td>NaN</td>\n",
       "      <td>65.0</td>\n",
       "      <td>22.595400</td>\n",
       "      <td>23.0</td>\n",
       "      <td>surf</td>\n",
       "      <td>True</td>\n",
       "    </tr>\n",
       "    <tr>\n",
       "      <th>2254</th>\n",
       "      <td>1499</td>\n",
       "      <td>9</td>\n",
       "      <td>41.0</td>\n",
       "      <td>330.37</td>\n",
       "      <td>346.0</td>\n",
       "      <td>8.057805</td>\n",
       "      <td>8.439024</td>\n",
       "      <td>NaN</td>\n",
       "      <td>NaN</td>\n",
       "      <td>45.0</td>\n",
       "      <td>12.680430</td>\n",
       "      <td>13.0</td>\n",
       "      <td>surf</td>\n",
       "      <td>False</td>\n",
       "    </tr>\n",
       "    <tr>\n",
       "      <th>2255</th>\n",
       "      <td>1499</td>\n",
       "      <td>10</td>\n",
       "      <td>53.0</td>\n",
       "      <td>363.28</td>\n",
       "      <td>385.0</td>\n",
       "      <td>6.854340</td>\n",
       "      <td>7.264151</td>\n",
       "      <td>NaN</td>\n",
       "      <td>NaN</td>\n",
       "      <td>61.0</td>\n",
       "      <td>19.035576</td>\n",
       "      <td>20.0</td>\n",
       "      <td>surf</td>\n",
       "      <td>False</td>\n",
       "    </tr>\n",
       "    <tr>\n",
       "      <th>2256</th>\n",
       "      <td>1499</td>\n",
       "      <td>11</td>\n",
       "      <td>45.0</td>\n",
       "      <td>288.56</td>\n",
       "      <td>308.0</td>\n",
       "      <td>6.412444</td>\n",
       "      <td>6.844444</td>\n",
       "      <td>NaN</td>\n",
       "      <td>NaN</td>\n",
       "      <td>49.0</td>\n",
       "      <td>16.419756</td>\n",
       "      <td>17.0</td>\n",
       "      <td>surf</td>\n",
       "      <td>False</td>\n",
       "    </tr>\n",
       "    <tr>\n",
       "      <th>2257</th>\n",
       "      <td>1499</td>\n",
       "      <td>12</td>\n",
       "      <td>65.0</td>\n",
       "      <td>468.10</td>\n",
       "      <td>496.0</td>\n",
       "      <td>7.201538</td>\n",
       "      <td>7.630769</td>\n",
       "      <td>NaN</td>\n",
       "      <td>NaN</td>\n",
       "      <td>65.0</td>\n",
       "      <td>21.542197</td>\n",
       "      <td>22.0</td>\n",
       "      <td>surf</td>\n",
       "      <td>False</td>\n",
       "    </tr>\n",
       "  </tbody>\n",
       "</table>\n",
       "<p>2293 rows × 14 columns</p>\n",
       "</div>"
      ],
      "text/plain": [
       "      user_id  month  ttl_calls  sum_dur  sum_minspent  mean_dur  \\\n",
       "0        1000     12       16.0   116.83         124.0  7.301875   \n",
       "1        1001      8       27.0   171.14         182.0  6.338519   \n",
       "2        1001      9       49.0   297.69         315.0  6.075306   \n",
       "3        1001     10       65.0   374.11         393.0  5.755538   \n",
       "4        1001     11       64.0   404.59         426.0  6.321719   \n",
       "...       ...    ...        ...      ...           ...       ...   \n",
       "2253     1498     12       39.0   324.77         339.0  8.327436   \n",
       "2254     1499      9       41.0   330.37         346.0  8.057805   \n",
       "2255     1499     10       53.0   363.28         385.0  6.854340   \n",
       "2256     1499     11       45.0   288.56         308.0  6.412444   \n",
       "2257     1499     12       65.0   468.10         496.0  7.201538   \n",
       "\n",
       "      mean_minspent  ttl_msgs  sum_msgspent  ttl_sesn  sum_gbused  \\\n",
       "0          7.750000      11.0          11.0       5.0    1.856904   \n",
       "1          6.740741      30.0          30.0      25.0    6.756982   \n",
       "2          6.428571      44.0          44.0      53.0   13.002754   \n",
       "3          6.046154      53.0          53.0      56.0   21.807119   \n",
       "4          6.656250      36.0          36.0      51.0   18.070605   \n",
       "...             ...       ...           ...       ...         ...   \n",
       "2253       8.692308       NaN           NaN      65.0   22.595400   \n",
       "2254       8.439024       NaN           NaN      45.0   12.680430   \n",
       "2255       7.264151       NaN           NaN      61.0   19.035576   \n",
       "2256       6.844444       NaN           NaN      49.0   16.419756   \n",
       "2257       7.630769       NaN           NaN      65.0   21.542197   \n",
       "\n",
       "      sum_gbspent      plan  ny_nj  \n",
       "0             2.0  ultimate  False  \n",
       "1             7.0      surf  False  \n",
       "2            14.0      surf  False  \n",
       "3            22.0      surf  False  \n",
       "4            19.0      surf  False  \n",
       "...           ...       ...    ...  \n",
       "2253         23.0      surf   True  \n",
       "2254         13.0      surf  False  \n",
       "2255         20.0      surf  False  \n",
       "2256         17.0      surf  False  \n",
       "2257         22.0      surf  False  \n",
       "\n",
       "[2293 rows x 14 columns]"
      ]
     },
     "metadata": {},
     "output_type": "display_data"
    }
   ],
   "source": [
    "# Add the user/plan information to the services_used dataframe\n",
    "monthly_user = services_used.join(user_data.set_index('user_id'), on = ['user_id'], how = 'left', sort = True)\n",
    "display(monthly_user)\n",
    "\n",
    "\n"
   ]
  },
  {
   "cell_type": "code",
   "execution_count": 37,
   "metadata": {},
   "outputs": [
    {
     "name": "stdout",
     "output_type": "stream",
     "text": [
      "user_id            0\n",
      "month              0\n",
      "ttl_calls         35\n",
      "sum_dur           35\n",
      "sum_minspent      35\n",
      "mean_dur          35\n",
      "mean_minspent     35\n",
      "ttl_msgs         487\n",
      "sum_msgspent     487\n",
      "ttl_sesn          16\n",
      "sum_gbused        16\n",
      "sum_gbspent       16\n",
      "plan               0\n",
      "ny_nj              0\n",
      "dtype: int64\n"
     ]
    },
    {
     "data": {
      "text/plain": [
       "user_id          0\n",
       "month            0\n",
       "ttl_calls        0\n",
       "sum_dur          0\n",
       "sum_minspent     0\n",
       "mean_dur         0\n",
       "mean_minspent    0\n",
       "ttl_msgs         0\n",
       "sum_msgspent     0\n",
       "ttl_sesn         0\n",
       "sum_gbused       0\n",
       "sum_gbspent      0\n",
       "plan             0\n",
       "ny_nj            0\n",
       "dtype: int64"
      ]
     },
     "metadata": {},
     "output_type": "display_data"
    }
   ],
   "source": [
    "# Check for empty cells:\n",
    "print(monthly_user.isna().sum())\n",
    "\n",
    "# Fill empty cells in dataframe with 0's.\n",
    "monthly_user = monthly_user.fillna(0)\n",
    "\n",
    "# Check my work\n",
    "display(monthly_user.isna().sum())\n",
    "\n"
   ]
  },
  {
   "cell_type": "code",
   "execution_count": 38,
   "metadata": {
    "scrolled": false
   },
   "outputs": [
    {
     "data": {
      "text/plain": [
       "user_id            int64\n",
       "month              int64\n",
       "ttl_calls          int64\n",
       "sum_dur          float64\n",
       "sum_minspent       int64\n",
       "mean_dur         float64\n",
       "mean_minspent    float64\n",
       "ttl_msgs           int64\n",
       "sum_msgspent       int64\n",
       "ttl_sesn           int64\n",
       "sum_gbused       float64\n",
       "sum_gbspent        int64\n",
       "plan              object\n",
       "ny_nj               bool\n",
       "dtype: object"
      ]
     },
     "metadata": {},
     "output_type": "display_data"
    }
   ],
   "source": [
    "\n",
    "\n",
    "# reset datatypes\n",
    "monthly_user['sum_minspent'] = monthly_user['sum_minspent'].astype('int')\n",
    "monthly_user['sum_msgspent'] = monthly_user['sum_msgspent'].astype('int')\n",
    "monthly_user['sum_gbspent'] = monthly_user['sum_gbspent'].astype('int')\n",
    "monthly_user['ttl_calls']= monthly_user['ttl_calls'].astype('int')\n",
    "monthly_user['ttl_sesn'] = monthly_user['ttl_sesn'].astype('int')\n",
    "monthly_user['ttl_msgs'] = monthly_user['ttl_msgs'].astype('int')\n",
    "\n",
    "\n",
    "\n",
    "display(monthly_user.dtypes)"
   ]
  },
  {
   "cell_type": "markdown",
   "metadata": {},
   "source": [
    "#### **Conclusions and notes**\n",
    "\n",
    "All dataframes were combined into a single dataframe including user plan and region info.  Because minutes and GB are both rounded in preparation for the revenue calculation, there is no reason to leave these numbers as float type.  With entries changed to integers, the dataframe is cleaner in appearance.  This dataframe represents all the needed demographic and monthly use information for 500 customers.  The index has been reset to make applying a function to the dataframe a cleaner coding experience."
   ]
  },
  {
   "cell_type": "markdown",
   "metadata": {},
   "source": [
    "### Revenue calculations from new dataframe:"
   ]
  },
  {
   "cell_type": "markdown",
   "metadata": {},
   "source": [
    "**Calculating Revenue:**\n",
    "* In order to calculate revenue for each user, we will have to add the following things together:\n",
    "  * Base price of the plan\n",
    "  * Minutes used over the plan allowance multiplied by the price per additional minute (USD)\n",
    "  * Messages used over the plan allowance multiplied by the price per additional message (USD)\n",
    "  * GB used over the plan allowance multiplied by the price per additional GB (USD)\n",
    "* This amount must be stored in a new row, 'revenue', and will represent the revenue per user per month"
   ]
  },
  {
   "cell_type": "code",
   "execution_count": 39,
   "metadata": {
    "scrolled": true
   },
   "outputs": [
    {
     "name": "stdout",
     "output_type": "stream",
     "text": [
      "Complete monthly user data:\n"
     ]
    },
    {
     "data": {
      "text/html": [
       "<div>\n",
       "<style scoped>\n",
       "    .dataframe tbody tr th:only-of-type {\n",
       "        vertical-align: middle;\n",
       "    }\n",
       "\n",
       "    .dataframe tbody tr th {\n",
       "        vertical-align: top;\n",
       "    }\n",
       "\n",
       "    .dataframe thead th {\n",
       "        text-align: right;\n",
       "    }\n",
       "</style>\n",
       "<table border=\"1\" class=\"dataframe\">\n",
       "  <thead>\n",
       "    <tr style=\"text-align: right;\">\n",
       "      <th></th>\n",
       "      <th>user_id</th>\n",
       "      <th>month</th>\n",
       "      <th>ttl_calls</th>\n",
       "      <th>sum_dur</th>\n",
       "      <th>sum_minspent</th>\n",
       "      <th>mean_dur</th>\n",
       "      <th>mean_minspent</th>\n",
       "      <th>ttl_msgs</th>\n",
       "      <th>sum_msgspent</th>\n",
       "      <th>ttl_sesn</th>\n",
       "      <th>sum_gbused</th>\n",
       "      <th>sum_gbspent</th>\n",
       "      <th>plan</th>\n",
       "      <th>ny_nj</th>\n",
       "      <th>revenue</th>\n",
       "    </tr>\n",
       "  </thead>\n",
       "  <tbody>\n",
       "    <tr>\n",
       "      <th>0</th>\n",
       "      <td>1000</td>\n",
       "      <td>12</td>\n",
       "      <td>16</td>\n",
       "      <td>116.83</td>\n",
       "      <td>124</td>\n",
       "      <td>7.301875</td>\n",
       "      <td>7.750000</td>\n",
       "      <td>11</td>\n",
       "      <td>11</td>\n",
       "      <td>5</td>\n",
       "      <td>1.856904</td>\n",
       "      <td>2</td>\n",
       "      <td>ultimate</td>\n",
       "      <td>False</td>\n",
       "      <td>70.00</td>\n",
       "    </tr>\n",
       "    <tr>\n",
       "      <th>1</th>\n",
       "      <td>1001</td>\n",
       "      <td>8</td>\n",
       "      <td>27</td>\n",
       "      <td>171.14</td>\n",
       "      <td>182</td>\n",
       "      <td>6.338519</td>\n",
       "      <td>6.740741</td>\n",
       "      <td>30</td>\n",
       "      <td>30</td>\n",
       "      <td>25</td>\n",
       "      <td>6.756982</td>\n",
       "      <td>7</td>\n",
       "      <td>surf</td>\n",
       "      <td>False</td>\n",
       "      <td>20.00</td>\n",
       "    </tr>\n",
       "    <tr>\n",
       "      <th>2</th>\n",
       "      <td>1001</td>\n",
       "      <td>9</td>\n",
       "      <td>49</td>\n",
       "      <td>297.69</td>\n",
       "      <td>315</td>\n",
       "      <td>6.075306</td>\n",
       "      <td>6.428571</td>\n",
       "      <td>44</td>\n",
       "      <td>44</td>\n",
       "      <td>53</td>\n",
       "      <td>13.002754</td>\n",
       "      <td>14</td>\n",
       "      <td>surf</td>\n",
       "      <td>False</td>\n",
       "      <td>20.00</td>\n",
       "    </tr>\n",
       "    <tr>\n",
       "      <th>3</th>\n",
       "      <td>1001</td>\n",
       "      <td>10</td>\n",
       "      <td>65</td>\n",
       "      <td>374.11</td>\n",
       "      <td>393</td>\n",
       "      <td>5.755538</td>\n",
       "      <td>6.046154</td>\n",
       "      <td>53</td>\n",
       "      <td>53</td>\n",
       "      <td>56</td>\n",
       "      <td>21.807119</td>\n",
       "      <td>22</td>\n",
       "      <td>surf</td>\n",
       "      <td>False</td>\n",
       "      <td>90.09</td>\n",
       "    </tr>\n",
       "    <tr>\n",
       "      <th>4</th>\n",
       "      <td>1001</td>\n",
       "      <td>11</td>\n",
       "      <td>64</td>\n",
       "      <td>404.59</td>\n",
       "      <td>426</td>\n",
       "      <td>6.321719</td>\n",
       "      <td>6.656250</td>\n",
       "      <td>36</td>\n",
       "      <td>36</td>\n",
       "      <td>51</td>\n",
       "      <td>18.070605</td>\n",
       "      <td>19</td>\n",
       "      <td>surf</td>\n",
       "      <td>False</td>\n",
       "      <td>60.00</td>\n",
       "    </tr>\n",
       "    <tr>\n",
       "      <th>...</th>\n",
       "      <td>...</td>\n",
       "      <td>...</td>\n",
       "      <td>...</td>\n",
       "      <td>...</td>\n",
       "      <td>...</td>\n",
       "      <td>...</td>\n",
       "      <td>...</td>\n",
       "      <td>...</td>\n",
       "      <td>...</td>\n",
       "      <td>...</td>\n",
       "      <td>...</td>\n",
       "      <td>...</td>\n",
       "      <td>...</td>\n",
       "      <td>...</td>\n",
       "      <td>...</td>\n",
       "    </tr>\n",
       "    <tr>\n",
       "      <th>2253</th>\n",
       "      <td>1498</td>\n",
       "      <td>12</td>\n",
       "      <td>39</td>\n",
       "      <td>324.77</td>\n",
       "      <td>339</td>\n",
       "      <td>8.327436</td>\n",
       "      <td>8.692308</td>\n",
       "      <td>0</td>\n",
       "      <td>0</td>\n",
       "      <td>65</td>\n",
       "      <td>22.595400</td>\n",
       "      <td>23</td>\n",
       "      <td>surf</td>\n",
       "      <td>True</td>\n",
       "      <td>100.00</td>\n",
       "    </tr>\n",
       "    <tr>\n",
       "      <th>2254</th>\n",
       "      <td>1499</td>\n",
       "      <td>9</td>\n",
       "      <td>41</td>\n",
       "      <td>330.37</td>\n",
       "      <td>346</td>\n",
       "      <td>8.057805</td>\n",
       "      <td>8.439024</td>\n",
       "      <td>0</td>\n",
       "      <td>0</td>\n",
       "      <td>45</td>\n",
       "      <td>12.680430</td>\n",
       "      <td>13</td>\n",
       "      <td>surf</td>\n",
       "      <td>False</td>\n",
       "      <td>20.00</td>\n",
       "    </tr>\n",
       "    <tr>\n",
       "      <th>2255</th>\n",
       "      <td>1499</td>\n",
       "      <td>10</td>\n",
       "      <td>53</td>\n",
       "      <td>363.28</td>\n",
       "      <td>385</td>\n",
       "      <td>6.854340</td>\n",
       "      <td>7.264151</td>\n",
       "      <td>0</td>\n",
       "      <td>0</td>\n",
       "      <td>61</td>\n",
       "      <td>19.035576</td>\n",
       "      <td>20</td>\n",
       "      <td>surf</td>\n",
       "      <td>False</td>\n",
       "      <td>70.00</td>\n",
       "    </tr>\n",
       "    <tr>\n",
       "      <th>2256</th>\n",
       "      <td>1499</td>\n",
       "      <td>11</td>\n",
       "      <td>45</td>\n",
       "      <td>288.56</td>\n",
       "      <td>308</td>\n",
       "      <td>6.412444</td>\n",
       "      <td>6.844444</td>\n",
       "      <td>0</td>\n",
       "      <td>0</td>\n",
       "      <td>49</td>\n",
       "      <td>16.419756</td>\n",
       "      <td>17</td>\n",
       "      <td>surf</td>\n",
       "      <td>False</td>\n",
       "      <td>40.00</td>\n",
       "    </tr>\n",
       "    <tr>\n",
       "      <th>2257</th>\n",
       "      <td>1499</td>\n",
       "      <td>12</td>\n",
       "      <td>65</td>\n",
       "      <td>468.10</td>\n",
       "      <td>496</td>\n",
       "      <td>7.201538</td>\n",
       "      <td>7.630769</td>\n",
       "      <td>0</td>\n",
       "      <td>0</td>\n",
       "      <td>65</td>\n",
       "      <td>21.542197</td>\n",
       "      <td>22</td>\n",
       "      <td>surf</td>\n",
       "      <td>False</td>\n",
       "      <td>90.00</td>\n",
       "    </tr>\n",
       "  </tbody>\n",
       "</table>\n",
       "<p>2293 rows × 15 columns</p>\n",
       "</div>"
      ],
      "text/plain": [
       "      user_id  month  ttl_calls  sum_dur  sum_minspent  mean_dur  \\\n",
       "0        1000     12         16   116.83           124  7.301875   \n",
       "1        1001      8         27   171.14           182  6.338519   \n",
       "2        1001      9         49   297.69           315  6.075306   \n",
       "3        1001     10         65   374.11           393  5.755538   \n",
       "4        1001     11         64   404.59           426  6.321719   \n",
       "...       ...    ...        ...      ...           ...       ...   \n",
       "2253     1498     12         39   324.77           339  8.327436   \n",
       "2254     1499      9         41   330.37           346  8.057805   \n",
       "2255     1499     10         53   363.28           385  6.854340   \n",
       "2256     1499     11         45   288.56           308  6.412444   \n",
       "2257     1499     12         65   468.10           496  7.201538   \n",
       "\n",
       "      mean_minspent  ttl_msgs  sum_msgspent  ttl_sesn  sum_gbused  \\\n",
       "0          7.750000        11            11         5    1.856904   \n",
       "1          6.740741        30            30        25    6.756982   \n",
       "2          6.428571        44            44        53   13.002754   \n",
       "3          6.046154        53            53        56   21.807119   \n",
       "4          6.656250        36            36        51   18.070605   \n",
       "...             ...       ...           ...       ...         ...   \n",
       "2253       8.692308         0             0        65   22.595400   \n",
       "2254       8.439024         0             0        45   12.680430   \n",
       "2255       7.264151         0             0        61   19.035576   \n",
       "2256       6.844444         0             0        49   16.419756   \n",
       "2257       7.630769         0             0        65   21.542197   \n",
       "\n",
       "      sum_gbspent      plan  ny_nj  revenue  \n",
       "0               2  ultimate  False    70.00  \n",
       "1               7      surf  False    20.00  \n",
       "2              14      surf  False    20.00  \n",
       "3              22      surf  False    90.09  \n",
       "4              19      surf  False    60.00  \n",
       "...           ...       ...    ...      ...  \n",
       "2253           23      surf   True   100.00  \n",
       "2254           13      surf  False    20.00  \n",
       "2255           20      surf  False    70.00  \n",
       "2256           17      surf  False    40.00  \n",
       "2257           22      surf  False    90.00  \n",
       "\n",
       "[2293 rows x 15 columns]"
      ]
     },
     "execution_count": 39,
     "metadata": {},
     "output_type": "execute_result"
    }
   ],
   "source": [
    "def revenue(row):\n",
    "    \n",
    "    # Information to pull from row\n",
    "    \n",
    "    min_spent = row['sum_minspent']\n",
    "    gb_spent = row['sum_gbspent']\n",
    "    msgs_spent = row['sum_msgspent']\n",
    "    plan = row['plan']\n",
    "    \n",
    "    \n",
    "    \n",
    "    # Plan Details:\n",
    "    \n",
    "    # Plan limits:\n",
    "    min_incl = plans.loc[plan, 'min_incl']\n",
    "    msgs_incl = plans.loc[plan, 'msgs_incl']\n",
    "    gb_incl = plans.loc[plan, 'gb_incl']\n",
    "    \n",
    "    # USD for plan and extras:\n",
    "    plan_usd = plans.loc[plan, 'plan_usd']\n",
    "    min_usd = plans.loc[plan, 'min_usd']\n",
    "    msg_usd = plans.loc[plan, 'msg_usd']\n",
    "    gb_usd = plans.loc[plan,'gb_usd']\n",
    "    \n",
    "    \n",
    "    \n",
    "    # Overage:\n",
    "    \n",
    "    x_min = (min_spent - min_incl)*min_usd\n",
    "    x_msg = (msgs_spent - msgs_incl)*msg_usd\n",
    "    x_gb = (gb_spent - gb_incl)*gb_usd\n",
    "    \n",
    "    rev = plan_usd + x_min.clip(0) + x_msg.clip(0) + x_gb.clip(0)\n",
    "    \n",
    "    return rev\n",
    "    \n",
    "# Apply the function and get the revenue.\n",
    "monthly_user['revenue'] = monthly_user.apply(revenue, axis=1)\n",
    "\n",
    "print('Complete monthly user data:')\n",
    "monthly_user\n",
    "   \n",
    "\n",
    "    \n",
    "\n",
    "\n",
    "\n"
   ]
  }
 ],
 "metadata": {
  "ExecuteTimeLog": [
   {
    "duration": 828,
    "start_time": "2021-11-16T09:21:11.304Z"
   },
   {
    "duration": 893,
    "start_time": "2021-11-16T09:21:17.728Z"
   },
   {
    "duration": 1150,
    "start_time": "2021-11-16T09:21:29.568Z"
   },
   {
    "duration": 3,
    "start_time": "2021-11-16T09:24:14.495Z"
   },
   {
    "duration": 120,
    "start_time": "2021-11-16T09:24:46.630Z"
   },
   {
    "duration": 3,
    "start_time": "2021-11-16T09:28:27.882Z"
   },
   {
    "duration": 4,
    "start_time": "2021-11-16T09:29:54.281Z"
   },
   {
    "duration": 3,
    "start_time": "2021-11-16T09:30:45.936Z"
   },
   {
    "duration": 4,
    "start_time": "2021-11-16T09:31:06.300Z"
   },
   {
    "duration": 113,
    "start_time": "2021-11-16T09:31:37.208Z"
   },
   {
    "duration": 143,
    "start_time": "2021-11-16T09:31:48.656Z"
   },
   {
    "duration": 98,
    "start_time": "2021-11-16T09:31:55.678Z"
   },
   {
    "duration": 3,
    "start_time": "2021-11-16T09:32:08.535Z"
   },
   {
    "duration": 111,
    "start_time": "2021-11-16T09:32:10.120Z"
   },
   {
    "duration": 3,
    "start_time": "2021-11-16T09:32:15.732Z"
   },
   {
    "duration": 4,
    "start_time": "2021-11-16T09:32:29.423Z"
   },
   {
    "duration": 3,
    "start_time": "2021-11-16T10:03:03.074Z"
   },
   {
    "duration": 3,
    "start_time": "2021-11-16T10:10:01.288Z"
   },
   {
    "duration": 3,
    "start_time": "2021-11-16T10:10:46.923Z"
   },
   {
    "duration": 121,
    "start_time": "2021-11-16T10:37:46.494Z"
   },
   {
    "duration": 125,
    "start_time": "2021-11-16T10:38:20.632Z"
   },
   {
    "duration": 112,
    "start_time": "2021-11-16T10:46:53.001Z"
   },
   {
    "duration": 110,
    "start_time": "2021-11-16T10:48:25.775Z"
   },
   {
    "duration": 3,
    "start_time": "2021-11-16T10:50:18.720Z"
   },
   {
    "duration": 4,
    "start_time": "2021-11-16T10:50:37.649Z"
   },
   {
    "duration": 2,
    "start_time": "2021-11-16T10:50:51.884Z"
   },
   {
    "duration": 3,
    "start_time": "2021-11-16T10:51:56.237Z"
   },
   {
    "duration": 101,
    "start_time": "2021-11-16T10:53:13.791Z"
   },
   {
    "duration": 3,
    "start_time": "2021-11-16T10:55:59.186Z"
   },
   {
    "duration": 3,
    "start_time": "2021-11-16T10:56:10.751Z"
   },
   {
    "duration": 3,
    "start_time": "2021-11-16T10:56:49.038Z"
   },
   {
    "duration": 3,
    "start_time": "2021-11-16T10:56:49.174Z"
   },
   {
    "duration": 4,
    "start_time": "2021-11-16T10:56:49.414Z"
   },
   {
    "duration": 3,
    "start_time": "2021-11-16T10:56:49.680Z"
   },
   {
    "duration": 3,
    "start_time": "2021-11-16T10:56:50.370Z"
   },
   {
    "duration": 114,
    "start_time": "2021-11-16T10:59:34.518Z"
   },
   {
    "duration": 3,
    "start_time": "2021-11-16T11:01:41.201Z"
   },
   {
    "duration": 116,
    "start_time": "2021-11-16T11:01:48.754Z"
   },
   {
    "duration": 3,
    "start_time": "2021-11-16T11:02:16.685Z"
   },
   {
    "duration": 3,
    "start_time": "2021-11-16T11:02:19.479Z"
   },
   {
    "duration": 3,
    "start_time": "2021-11-16T11:02:47.067Z"
   },
   {
    "duration": 3,
    "start_time": "2021-11-16T11:02:49.353Z"
   },
   {
    "duration": 3,
    "start_time": "2021-11-16T11:03:07.835Z"
   },
   {
    "duration": 3,
    "start_time": "2021-11-16T11:03:07.953Z"
   },
   {
    "duration": 112,
    "start_time": "2021-11-16T11:07:52.072Z"
   },
   {
    "duration": 187,
    "start_time": "2021-11-16T11:09:23.468Z"
   },
   {
    "duration": 4,
    "start_time": "2021-11-16T11:10:01.455Z"
   },
   {
    "duration": 3,
    "start_time": "2021-11-16T11:10:05.069Z"
   },
   {
    "duration": 4,
    "start_time": "2021-11-16T11:10:13.376Z"
   },
   {
    "duration": 3,
    "start_time": "2021-11-16T11:10:14.434Z"
   },
   {
    "duration": 3,
    "start_time": "2021-11-16T11:10:22.853Z"
   },
   {
    "duration": 4,
    "start_time": "2021-11-16T11:27:29.279Z"
   },
   {
    "duration": 4,
    "start_time": "2021-11-16T11:29:08.919Z"
   },
   {
    "duration": 118,
    "start_time": "2021-11-16T11:29:46.703Z"
   },
   {
    "duration": 437,
    "start_time": "2021-11-16T11:36:02.181Z"
   },
   {
    "duration": 157,
    "start_time": "2021-11-16T11:36:14.388Z"
   },
   {
    "duration": 207,
    "start_time": "2021-11-16T11:47:15.898Z"
   },
   {
    "duration": 3,
    "start_time": "2021-11-16T11:53:52.092Z"
   },
   {
    "duration": 3,
    "start_time": "2021-11-16T11:53:52.236Z"
   },
   {
    "duration": 3,
    "start_time": "2021-11-16T11:59:12.005Z"
   },
   {
    "duration": 112,
    "start_time": "2021-11-16T12:00:33.446Z"
   },
   {
    "duration": 3,
    "start_time": "2021-11-16T12:02:14.453Z"
   },
   {
    "duration": 3,
    "start_time": "2021-11-16T12:02:39.512Z"
   },
   {
    "duration": 106,
    "start_time": "2021-11-16T12:03:03.460Z"
   },
   {
    "duration": 3,
    "start_time": "2021-11-17T20:37:21.139Z"
   },
   {
    "duration": 3,
    "start_time": "2021-11-17T20:37:22.229Z"
   },
   {
    "duration": 3,
    "start_time": "2021-11-17T20:38:38.806Z"
   },
   {
    "duration": 3,
    "start_time": "2021-11-17T20:38:41.958Z"
   },
   {
    "duration": 3,
    "start_time": "2021-11-17T20:43:46.551Z"
   },
   {
    "duration": 4,
    "start_time": "2021-11-17T20:58:21.835Z"
   },
   {
    "duration": 3,
    "start_time": "2021-11-17T20:59:21.872Z"
   },
   {
    "duration": 4,
    "start_time": "2021-11-17T20:59:45.352Z"
   },
   {
    "duration": 4,
    "start_time": "2021-11-17T20:59:49.646Z"
   },
   {
    "duration": 159,
    "start_time": "2021-11-17T21:02:26.949Z"
   },
   {
    "duration": 3,
    "start_time": "2021-11-17T21:03:53.461Z"
   },
   {
    "duration": 3,
    "start_time": "2021-11-17T21:03:53.694Z"
   },
   {
    "duration": 3,
    "start_time": "2021-11-17T21:05:28.145Z"
   },
   {
    "duration": 116,
    "start_time": "2021-11-17T21:05:57.787Z"
   },
   {
    "duration": 3,
    "start_time": "2021-11-17T21:06:37.993Z"
   },
   {
    "duration": 3,
    "start_time": "2021-11-17T21:06:38.261Z"
   },
   {
    "duration": 3,
    "start_time": "2021-11-17T21:11:54.358Z"
   },
   {
    "duration": 3,
    "start_time": "2021-11-17T21:12:43.846Z"
   },
   {
    "duration": 4,
    "start_time": "2021-11-17T21:13:08.773Z"
   },
   {
    "duration": 3,
    "start_time": "2021-11-17T21:14:44.441Z"
   },
   {
    "duration": 3,
    "start_time": "2021-11-17T21:15:42.059Z"
   },
   {
    "duration": 4,
    "start_time": "2021-11-17T21:15:51.995Z"
   },
   {
    "duration": 3,
    "start_time": "2021-11-17T21:15:53.923Z"
   },
   {
    "duration": 3,
    "start_time": "2021-11-17T21:15:55.282Z"
   },
   {
    "duration": 3,
    "start_time": "2021-11-17T21:16:28.492Z"
   },
   {
    "duration": 3,
    "start_time": "2021-11-17T21:16:32.603Z"
   },
   {
    "duration": 3,
    "start_time": "2021-11-17T21:17:06.941Z"
   },
   {
    "duration": 98,
    "start_time": "2021-11-17T21:18:05.733Z"
   },
   {
    "duration": 4,
    "start_time": "2021-11-17T21:21:35.255Z"
   },
   {
    "duration": 3,
    "start_time": "2021-11-17T21:21:37.804Z"
   },
   {
    "duration": 4,
    "start_time": "2021-11-17T21:23:06.071Z"
   },
   {
    "duration": 3,
    "start_time": "2021-11-17T21:23:24.799Z"
   },
   {
    "duration": 3,
    "start_time": "2021-11-17T21:23:32.591Z"
   },
   {
    "duration": 98,
    "start_time": "2021-11-17T21:28:31.559Z"
   },
   {
    "duration": 3,
    "start_time": "2021-11-17T21:28:45.448Z"
   },
   {
    "duration": 3,
    "start_time": "2021-11-17T21:29:17.303Z"
   },
   {
    "duration": 3,
    "start_time": "2021-11-17T21:29:29.617Z"
   },
   {
    "duration": 3,
    "start_time": "2021-11-17T21:29:32.681Z"
   },
   {
    "duration": 3,
    "start_time": "2021-11-17T21:36:11.474Z"
   },
   {
    "duration": 3,
    "start_time": "2021-11-17T21:36:14.791Z"
   },
   {
    "duration": 3,
    "start_time": "2021-11-17T21:36:53.943Z"
   },
   {
    "duration": 3,
    "start_time": "2021-11-17T21:36:56.165Z"
   },
   {
    "duration": 4,
    "start_time": "2021-11-17T21:37:16.590Z"
   },
   {
    "duration": 3,
    "start_time": "2021-11-17T21:37:22.702Z"
   },
   {
    "duration": 4,
    "start_time": "2021-11-17T21:38:03.479Z"
   },
   {
    "duration": 3,
    "start_time": "2021-11-17T21:38:08.601Z"
   },
   {
    "duration": 3,
    "start_time": "2021-11-17T21:38:12.928Z"
   },
   {
    "duration": 3,
    "start_time": "2021-11-17T21:38:48.896Z"
   },
   {
    "duration": 2,
    "start_time": "2021-11-17T21:38:49.171Z"
   },
   {
    "duration": 4,
    "start_time": "2021-11-17T21:39:57.889Z"
   },
   {
    "duration": 3,
    "start_time": "2021-11-17T21:39:58.057Z"
   },
   {
    "duration": 3,
    "start_time": "2021-11-17T21:41:20.108Z"
   },
   {
    "duration": 3,
    "start_time": "2021-11-17T21:41:20.629Z"
   },
   {
    "duration": 3,
    "start_time": "2021-11-17T21:42:49.136Z"
   },
   {
    "duration": 3,
    "start_time": "2021-11-17T21:43:15.137Z"
   },
   {
    "duration": 4,
    "start_time": "2021-11-17T21:43:16.766Z"
   },
   {
    "duration": 4,
    "start_time": "2021-11-17T21:43:31.711Z"
   },
   {
    "duration": 3,
    "start_time": "2021-11-17T21:43:36.312Z"
   },
   {
    "duration": 4,
    "start_time": "2021-11-17T21:45:08.825Z"
   },
   {
    "duration": 4,
    "start_time": "2021-11-17T21:45:10.119Z"
   },
   {
    "duration": 4,
    "start_time": "2021-11-17T21:45:13.748Z"
   },
   {
    "duration": 3,
    "start_time": "2021-11-17T21:45:22.219Z"
   },
   {
    "duration": 3,
    "start_time": "2021-11-17T21:45:33.412Z"
   },
   {
    "duration": 2,
    "start_time": "2021-11-17T21:46:01.885Z"
   },
   {
    "duration": 3,
    "start_time": "2021-11-17T21:46:03.628Z"
   },
   {
    "duration": 107,
    "start_time": "2021-11-17T21:47:32.512Z"
   },
   {
    "duration": 103,
    "start_time": "2021-11-17T21:50:36.243Z"
   },
   {
    "duration": 3,
    "start_time": "2021-11-18T06:28:31.440Z"
   },
   {
    "duration": 3,
    "start_time": "2021-11-18T06:29:00.168Z"
   },
   {
    "duration": 3,
    "start_time": "2021-11-18T06:31:27.008Z"
   },
   {
    "duration": 2,
    "start_time": "2021-11-18T06:35:34.288Z"
   },
   {
    "duration": 2,
    "start_time": "2021-11-18T06:38:04.527Z"
   }
  ],
  "kernelspec": {
   "display_name": "Python 3 (ipykernel)",
   "language": "python",
   "name": "python3"
  },
  "language_info": {
   "codemirror_mode": {
    "name": "ipython",
    "version": 3
   },
   "file_extension": ".py",
   "mimetype": "text/x-python",
   "name": "python",
   "nbconvert_exporter": "python",
   "pygments_lexer": "ipython3",
   "version": "3.9.2"
  },
  "toc": {
   "base_numbering": 1,
   "nav_menu": {},
   "number_sections": true,
   "sideBar": true,
   "skip_h1_title": false,
   "title_cell": "Table of Contents",
   "title_sidebar": "Contents",
   "toc_cell": false,
   "toc_position": {
    "height": "calc(100% - 180px)",
    "left": "10px",
    "top": "150px",
    "width": "216px"
   },
   "toc_section_display": true,
   "toc_window_display": true
  }
 },
 "nbformat": 4,
 "nbformat_minor": 2
}
